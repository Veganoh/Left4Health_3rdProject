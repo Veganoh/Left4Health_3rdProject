{
 "cells": [
  {
   "cell_type": "markdown",
   "metadata": {},
   "source": [
    "# Disease Classification"
   ]
  },
  {
   "cell_type": "markdown",
   "metadata": {},
   "source": [
    "In this notebook, we will use text classification to automatically classify diseases based on the user's symptoms and feelings."
   ]
  },
  {
   "cell_type": "markdown",
   "metadata": {},
   "source": [
    "### Imports"
   ]
  },
  {
   "cell_type": "code",
   "execution_count": 82,
   "metadata": {},
   "outputs": [],
   "source": [
    "import pandas as pd\n",
    "import re\n",
    "import nltk\n",
    "import matplotlib.pyplot as plt\n",
    "from sklearn.model_selection import train_test_split\n",
    "from sklearn.feature_extraction.text import TfidfVectorizer\n",
    "from sklearn.metrics import accuracy_score, recall_score, precision_score, f1_score, classification_report, confusion_matrix, ConfusionMatrixDisplay, roc_curve\n",
    "from nltk.corpus import stopwords"
   ]
  },
  {
   "cell_type": "markdown",
   "metadata": {},
   "source": [
    "## Data Load"
   ]
  },
  {
   "cell_type": "code",
   "execution_count": 71,
   "metadata": {},
   "outputs": [
    {
     "name": "stdout",
     "output_type": "stream",
     "text": [
      "Data loaded successfully\n"
     ]
    }
   ],
   "source": [
    "datapath = \".\\Data\\dataset.csv\"\n",
    "\n",
    "# Read dataset into a dataframe\n",
    "data = pd.read_csv(datapath)\n",
    "\n",
    "# Check loading\n",
    "print(\"Data loaded successfully\") if data.any(axis=None) else print(\"Error loading data\")"
   ]
  },
  {
   "cell_type": "code",
   "execution_count": 72,
   "metadata": {},
   "outputs": [
    {
     "data": {
      "text/html": [
       "<div>\n",
       "<style scoped>\n",
       "    .dataframe tbody tr th:only-of-type {\n",
       "        vertical-align: middle;\n",
       "    }\n",
       "\n",
       "    .dataframe tbody tr th {\n",
       "        vertical-align: top;\n",
       "    }\n",
       "\n",
       "    .dataframe thead th {\n",
       "        text-align: right;\n",
       "    }\n",
       "</style>\n",
       "<table border=\"1\" class=\"dataframe\">\n",
       "  <thead>\n",
       "    <tr style=\"text-align: right;\">\n",
       "      <th></th>\n",
       "      <th>Disease</th>\n",
       "      <th>User_input</th>\n",
       "    </tr>\n",
       "  </thead>\n",
       "  <tbody>\n",
       "    <tr>\n",
       "      <th>0</th>\n",
       "      <td>Psoriasis</td>\n",
       "      <td>I have been experiencing a skin rash on my arm...</td>\n",
       "    </tr>\n",
       "    <tr>\n",
       "      <th>1</th>\n",
       "      <td>Psoriasis</td>\n",
       "      <td>My skin has been peeling, especially on my kne...</td>\n",
       "    </tr>\n",
       "    <tr>\n",
       "      <th>2</th>\n",
       "      <td>Psoriasis</td>\n",
       "      <td>I have been experiencing joint pain in my fing...</td>\n",
       "    </tr>\n",
       "    <tr>\n",
       "      <th>3</th>\n",
       "      <td>Psoriasis</td>\n",
       "      <td>There is a silver like dusting on my skin, esp...</td>\n",
       "    </tr>\n",
       "    <tr>\n",
       "      <th>4</th>\n",
       "      <td>Psoriasis</td>\n",
       "      <td>My nails have small dents or pits in them, and...</td>\n",
       "    </tr>\n",
       "    <tr>\n",
       "      <th>...</th>\n",
       "      <td>...</td>\n",
       "      <td>...</td>\n",
       "    </tr>\n",
       "    <tr>\n",
       "      <th>245</th>\n",
       "      <td>Dermatitis</td>\n",
       "      <td>I have experienced a loss of interest in activ...</td>\n",
       "    </tr>\n",
       "    <tr>\n",
       "      <th>246</th>\n",
       "      <td>Dermatitis</td>\n",
       "      <td>The oozing and crusting on my skin have made m...</td>\n",
       "    </tr>\n",
       "    <tr>\n",
       "      <th>247</th>\n",
       "      <td>Dermatitis</td>\n",
       "      <td>The darkening of my skin around my eyes has ma...</td>\n",
       "    </tr>\n",
       "    <tr>\n",
       "      <th>248</th>\n",
       "      <td>Dermatitis</td>\n",
       "      <td>I have noticed a decline in my overall health ...</td>\n",
       "    </tr>\n",
       "    <tr>\n",
       "      <th>249</th>\n",
       "      <td>Dermatitis</td>\n",
       "      <td>The raw, sensitive skin from scratching has ma...</td>\n",
       "    </tr>\n",
       "  </tbody>\n",
       "</table>\n",
       "<p>250 rows × 2 columns</p>\n",
       "</div>"
      ],
      "text/plain": [
       "        Disease                                         User_input\n",
       "0     Psoriasis  I have been experiencing a skin rash on my arm...\n",
       "1     Psoriasis  My skin has been peeling, especially on my kne...\n",
       "2     Psoriasis  I have been experiencing joint pain in my fing...\n",
       "3     Psoriasis  There is a silver like dusting on my skin, esp...\n",
       "4     Psoriasis  My nails have small dents or pits in them, and...\n",
       "..          ...                                                ...\n",
       "245  Dermatitis  I have experienced a loss of interest in activ...\n",
       "246  Dermatitis  The oozing and crusting on my skin have made m...\n",
       "247  Dermatitis  The darkening of my skin around my eyes has ma...\n",
       "248  Dermatitis  I have noticed a decline in my overall health ...\n",
       "249  Dermatitis  The raw, sensitive skin from scratching has ma...\n",
       "\n",
       "[250 rows x 2 columns]"
      ]
     },
     "metadata": {},
     "output_type": "display_data"
    }
   ],
   "source": [
    "display(data)"
   ]
  },
  {
   "cell_type": "code",
   "execution_count": 73,
   "metadata": {},
   "outputs": [
    {
     "name": "stdout",
     "output_type": "stream",
     "text": [
      "<class 'pandas.core.frame.DataFrame'>\n",
      "RangeIndex: 250 entries, 0 to 249\n",
      "Data columns (total 2 columns):\n",
      " #   Column      Non-Null Count  Dtype \n",
      "---  ------      --------------  ----- \n",
      " 0   Disease     250 non-null    object\n",
      " 1   User_input  250 non-null    object\n",
      "dtypes: object(2)\n",
      "memory usage: 4.0+ KB\n"
     ]
    }
   ],
   "source": [
    "data.info()"
   ]
  },
  {
   "cell_type": "code",
   "execution_count": 74,
   "metadata": {},
   "outputs": [
    {
     "name": "stdout",
     "output_type": "stream",
     "text": [
      "Dataset contains 250 rows and 2 columns.\n",
      "Dataset has 5 different diseases: ['Psoriasis' 'Melanoma' 'Urticaria' 'Lupus' 'Dermatitis'].\n"
     ]
    }
   ],
   "source": [
    "print(f\"Dataset contains {data.shape[0]} rows and {data.shape[1]} columns.\" )\n",
    "print(f\"Dataset has {data['Disease'].nunique()} different diseases: {data['Disease'].unique()}.\")"
   ]
  },
  {
   "cell_type": "code",
   "execution_count": 32,
   "metadata": {},
   "outputs": [
    {
     "data": {
      "text/plain": [
       "<Axes: title={'center': 'Dataset balancing'}, xlabel='Disease'>"
      ]
     },
     "execution_count": 32,
     "metadata": {},
     "output_type": "execute_result"
    },
    {
     "data": {
      "image/png": "[encoded data removed]",
      "text/plain": [
       "<Figure size 640x480 with 1 Axes>"
      ]
     },
     "metadata": {},
     "output_type": "display_data"
    }
   ],
   "source": [
    "# Plot dataset balancing\n",
    "data['Disease'].value_counts().plot(kind='bar', title='Dataset balancing')"
   ]
  },
  {
   "cell_type": "markdown",
   "metadata": {},
   "source": [
    "## Model Evaluation"
   ]
  },
  {
   "cell_type": "code",
   "execution_count": 33,
   "metadata": {},
   "outputs": [],
   "source": [
    "def evaluate(model, X_train, X_Test, y_train, y_test):\n",
    "    # Train\n",
    "    y_train_pred = model.predict(X_train)\n",
    "    train_scores = [\n",
    "        \"\\033[1mTraining Data Results\\033[0m\",\n",
    "        f\"Accuracy Score: {accuracy_score(y_train, y_train_pred):.4f}\",\n",
    "        f\"Specificity Score: {recall_score(y_train, y_train_pred, average='weighted', labels=np.unique(y_test)):.4f}\",\n",
    "        f\"Precision Score: {precision_score(y_train, y_train_pred, average='weighted'):.4f}\",\n",
    "        f\"F1 Score: {f1_score(y_train, y_train_pred, average='weighted'):.4f}\"\n",
    "    ]\n",
    "\n",
    "    # Test\n",
    "    y_test_pred = model.predict(X_Test)\n",
    "    test_scores = [\n",
    "        \"\\033[1mTesting Data Results\\033[0m\",\n",
    "        f\"Accuracy Score: {accuracy_score(y_test, y_test_pred):.4f}\",\n",
    "        f\"Specificity Score: {recall_score(y_test, y_test_pred, average='weighted', labels=np.unique(y_test)):.4f}\",\n",
    "        f\"Precision Score: {precision_score(y_test, y_test_pred, average='weighted'):.4f}\",\n",
    "        f\"F1 Score: {f1_score(y_test, y_test_pred, average='weighted'):.4f}\"\n",
    "    ]\n",
    "\n",
    "    column_width = max(len(s.strip()) for s in train_scores + test_scores) + 57\n",
    "\n",
    "    # Print results\n",
    "    for i in range(len(train_scores)):\n",
    "        train_score = train_scores[i]\n",
    "        test_score = test_scores[i]\n",
    "        if test_score == test_scores[0]:\n",
    "            print(f\"{train_score:<{column_width + 8}}{test_score}\")\n",
    "        else:\n",
    "            print(f\"{train_score:<{column_width}}{test_score}\")\n",
    "    \n",
    "    # Classification report train\n",
    "    print(\"\\033[1mClassification Report Train\\033[0m\")\n",
    "    print(classification_report(y_train, y_train_pred))\n",
    "\n",
    "    # Classification report test\n",
    "    print(\"\\033[1mClassification Report Test\\033[0m\")\n",
    "    print(classification_report(y_test, y_test_pred))\n",
    "\n",
    "    # Figure for confusion matrix and roc\n",
    "    fig, (ax1, ax2)= plt.subplots(1, 2, figsize=(15, 5))\n",
    "\n",
    "    # Confusion matrix\n",
    "    conf_matrix = ConfusionMatrixDisplay(confusion_matrix(y_test, y_test_pred), display_labels=model.classes_)\n",
    "    conf_matrix.plot(ax=ax1)\n",
    "\n",
    "    # Roc Curve for each disease\n",
    "    prediction = model.predict_prob(X_Test)\n",
    "    falsepositive, truepositive, thresh = {}, {}, {}\n",
    "    for i, disease in enumerate(model.classes_):\n",
    "        falsepositive[disease], truepositive[disease], thresh[disease] = roc_curve(y_test, \n",
    "                                                                        prediction[:, i], \n",
    "                                                                        pos_label=disease)\n",
    "    \n",
    "    ax2.set_title('ROC Curve')\n",
    "    ax2.set_xlabel('False Positive Rate')\n",
    "    ax2.set_ylabel('True Positive Rate')\n",
    "    for disease in model.classes_:\n",
    "        ax2.plot(falsepositive[disease], truepositive[disease], label=disease)\n",
    "    \n",
    "    ax2.plot()"
   ]
  },
  {
   "cell_type": "markdown",
   "metadata": {},
   "source": [
    "## Text Preprocessing"
   ]
  },
  {
   "cell_type": "markdown",
   "metadata": {},
   "source": [
    "We will create a new column with pre-processed data to further compare the models."
   ]
  },
  {
   "cell_type": "code",
   "execution_count": 75,
   "metadata": {},
   "outputs": [],
   "source": [
    "data['User_input_preprocessed'] = data['User_input']"
   ]
  },
  {
   "cell_type": "markdown",
   "metadata": {},
   "source": [
    "### Text treatment\n",
    "- Remove stop words - Stop words are frequently occuring words in a language that are commonly omitted from NLP tasks due to their low significance for deciphering textual meaning.\n",
    "- Remove pontuations\n",
    "- Remove words with a single letter\n",
    "- Transfrom all text in lower case"
   ]
  },
  {
   "cell_type": "code",
   "execution_count": 34,
   "metadata": {},
   "outputs": [],
   "source": [
    "# Load english stop words using stopwords\n",
    "# nltk.download('stopwords')"
   ]
  },
  {
   "cell_type": "code",
   "execution_count": 76,
   "metadata": {},
   "outputs": [],
   "source": [
    "# Transform in lower case\n",
    "data['User_input_preprocessed'] = data['User_input_preprocessed'].str.lower()"
   ]
  },
  {
   "cell_type": "code",
   "execution_count": 83,
   "metadata": {},
   "outputs": [],
   "source": [
    "# Remove special chars and pontuation like '.' ','\n",
    "data['User_input_preprocessed'] = data['User_input_preprocessed'].apply(lambda x: re.sub(r'[^\\w\\s]', '', x))"
   ]
  },
  {
   "cell_type": "code",
   "execution_count": 85,
   "metadata": {},
   "outputs": [],
   "source": [
    "# Remove digits\n",
    "data['User_input_preprocessed'] = data['User_input_preprocessed'].str.replace('\\d+', '')"
   ]
  },
  {
   "cell_type": "code",
   "execution_count": 86,
   "metadata": {},
   "outputs": [],
   "source": [
    "# Remove stop words\n",
    "stop_words = stopwords.words('english')\n",
    "data['User_input_preprocessed'] = data['User_input_preprocessed'].apply(lambda x: ' '.join([word for word in x.split() if word not in (stop_words)]))"
   ]
  },
  {
   "cell_type": "code",
   "execution_count": 88,
   "metadata": {},
   "outputs": [],
   "source": [
    "# Remove words with a sigle letter\n",
    "data['User_input_preprocessed'] = data['User_input_preprocessed'].apply(lambda x: ' '.join([word for word in x.split() if len(word) > 1]))"
   ]
  },
  {
   "cell_type": "markdown",
   "metadata": {},
   "source": [
    "### Tokenization"
   ]
  },
  {
   "cell_type": "code",
   "execution_count": 91,
   "metadata": {},
   "outputs": [],
   "source": [
    "# Tokenization by white space\n",
    "tokenizer = nltk.tokenize.WhitespaceTokenizer()\n",
    "data['User_input_token_whitespace'] = data['User_input_preprocessed'].apply(lambda x: tokenizer.tokenize(x))\n",
    "\n",
    "# Tokenization by tree bank\n",
    "tokenizer = nltk.tokenize.TreebankWordDetokenizer()\n",
    "data['User_input_token_treebank'] = data['User_input_token_whitespace'].apply(lambda x: tokenizer.detokenize(x))\n",
    "\n",
    "# Tokenization by word punct\n",
    "tokenizer = nltk.tokenize.WordPunctTokenizer()\n",
    "data['User_input_token_wordpunct'] = data['User_input_preprocessed'].apply(lambda x: tokenizer.tokenize(x))\n"
   ]
  },
  {
   "cell_type": "code",
   "execution_count": 90,
   "metadata": {},
   "outputs": [
    {
     "data": {
      "text/html": [
       "<div>\n",
       "<style scoped>\n",
       "    .dataframe tbody tr th:only-of-type {\n",
       "        vertical-align: middle;\n",
       "    }\n",
       "\n",
       "    .dataframe tbody tr th {\n",
       "        vertical-align: top;\n",
       "    }\n",
       "\n",
       "    .dataframe thead th {\n",
       "        text-align: right;\n",
       "    }\n",
       "</style>\n",
       "<table border=\"1\" class=\"dataframe\">\n",
       "  <thead>\n",
       "    <tr style=\"text-align: right;\">\n",
       "      <th></th>\n",
       "      <th>Disease</th>\n",
       "      <th>User_input</th>\n",
       "      <th>User_input_preprocessed</th>\n",
       "      <th>User_input_token_whitespace</th>\n",
       "      <th>User_input_token_treebank</th>\n",
       "      <th>User_input_token_wordpunct</th>\n",
       "    </tr>\n",
       "  </thead>\n",
       "  <tbody>\n",
       "    <tr>\n",
       "      <th>0</th>\n",
       "      <td>Psoriasis</td>\n",
       "      <td>I have been experiencing a skin rash on my arm...</td>\n",
       "      <td>experiencing skin rash arms legs torso past we...</td>\n",
       "      <td>[experiencing, skin, rash, arms, legs, torso, ...</td>\n",
       "      <td>experiencing skin rash arms legs torso past we...</td>\n",
       "      <td>[experiencing, skin, rash, arms, legs, torso, ...</td>\n",
       "    </tr>\n",
       "    <tr>\n",
       "      <th>1</th>\n",
       "      <td>Psoriasis</td>\n",
       "      <td>My skin has been peeling, especially on my kne...</td>\n",
       "      <td>skin peeling especially knees elbows scalp pee...</td>\n",
       "      <td>[skin, peeling, especially, knees, elbows, sca...</td>\n",
       "      <td>skin peeling especially knees elbows scalp pee...</td>\n",
       "      <td>[skin, peeling, especially, knees, elbows, sca...</td>\n",
       "    </tr>\n",
       "    <tr>\n",
       "      <th>2</th>\n",
       "      <td>Psoriasis</td>\n",
       "      <td>I have been experiencing joint pain in my fing...</td>\n",
       "      <td>experiencing joint pain fingers wrists knees p...</td>\n",
       "      <td>[experiencing, joint, pain, fingers, wrists, k...</td>\n",
       "      <td>experiencing joint pain fingers wrists knees p...</td>\n",
       "      <td>[experiencing, joint, pain, fingers, wrists, k...</td>\n",
       "    </tr>\n",
       "    <tr>\n",
       "      <th>3</th>\n",
       "      <td>Psoriasis</td>\n",
       "      <td>There is a silver like dusting on my skin, esp...</td>\n",
       "      <td>silver like dusting skin especially lower back...</td>\n",
       "      <td>[silver, like, dusting, skin, especially, lowe...</td>\n",
       "      <td>silver like dusting skin especially lower back...</td>\n",
       "      <td>[silver, like, dusting, skin, especially, lowe...</td>\n",
       "    </tr>\n",
       "    <tr>\n",
       "      <th>4</th>\n",
       "      <td>Psoriasis</td>\n",
       "      <td>My nails have small dents or pits in them, and...</td>\n",
       "      <td>nails small dents pits often feel inflammatory...</td>\n",
       "      <td>[nails, small, dents, pits, often, feel, infla...</td>\n",
       "      <td>nails small dents pits often feel inflammatory...</td>\n",
       "      <td>[nails, small, dents, pits, often, feel, infla...</td>\n",
       "    </tr>\n",
       "    <tr>\n",
       "      <th>...</th>\n",
       "      <td>...</td>\n",
       "      <td>...</td>\n",
       "      <td>...</td>\n",
       "      <td>...</td>\n",
       "      <td>...</td>\n",
       "      <td>...</td>\n",
       "    </tr>\n",
       "    <tr>\n",
       "      <th>245</th>\n",
       "      <td>Dermatitis</td>\n",
       "      <td>I have experienced a loss of interest in activ...</td>\n",
       "      <td>experienced loss interest activities hobbies e...</td>\n",
       "      <td>[experienced, loss, interest, activities, hobb...</td>\n",
       "      <td>experienced loss interest activities hobbies e...</td>\n",
       "      <td>[experienced, loss, interest, activities, hobb...</td>\n",
       "    </tr>\n",
       "    <tr>\n",
       "      <th>246</th>\n",
       "      <td>Dermatitis</td>\n",
       "      <td>The oozing and crusting on my skin have made m...</td>\n",
       "      <td>oozing crusting skin made feel unclean uncomfo...</td>\n",
       "      <td>[oozing, crusting, skin, made, feel, unclean, ...</td>\n",
       "      <td>oozing crusting skin made feel unclean uncomfo...</td>\n",
       "      <td>[oozing, crusting, skin, made, feel, unclean, ...</td>\n",
       "    </tr>\n",
       "    <tr>\n",
       "      <th>247</th>\n",
       "      <td>Dermatitis</td>\n",
       "      <td>The darkening of my skin around my eyes has ma...</td>\n",
       "      <td>darkening skin around eyes made feel older les...</td>\n",
       "      <td>[darkening, skin, around, eyes, made, feel, ol...</td>\n",
       "      <td>darkening skin around eyes made feel older les...</td>\n",
       "      <td>[darkening, skin, around, eyes, made, feel, ol...</td>\n",
       "    </tr>\n",
       "    <tr>\n",
       "      <th>248</th>\n",
       "      <td>Dermatitis</td>\n",
       "      <td>I have noticed a decline in my overall health ...</td>\n",
       "      <td>noticed decline overall health wellbeing due c...</td>\n",
       "      <td>[noticed, decline, overall, health, wellbeing,...</td>\n",
       "      <td>noticed decline overall health wellbeing due c...</td>\n",
       "      <td>[noticed, decline, overall, health, wellbeing,...</td>\n",
       "    </tr>\n",
       "    <tr>\n",
       "      <th>249</th>\n",
       "      <td>Dermatitis</td>\n",
       "      <td>The raw, sensitive skin from scratching has ma...</td>\n",
       "      <td>raw sensitive skin scratching made painful eng...</td>\n",
       "      <td>[raw, sensitive, skin, scratching, made, painf...</td>\n",
       "      <td>raw sensitive skin scratching made painful eng...</td>\n",
       "      <td>[raw, sensitive, skin, scratching, made, painf...</td>\n",
       "    </tr>\n",
       "  </tbody>\n",
       "</table>\n",
       "<p>250 rows × 6 columns</p>\n",
       "</div>"
      ],
      "text/plain": [
       "        Disease                                         User_input  \\\n",
       "0     Psoriasis  I have been experiencing a skin rash on my arm...   \n",
       "1     Psoriasis  My skin has been peeling, especially on my kne...   \n",
       "2     Psoriasis  I have been experiencing joint pain in my fing...   \n",
       "3     Psoriasis  There is a silver like dusting on my skin, esp...   \n",
       "4     Psoriasis  My nails have small dents or pits in them, and...   \n",
       "..          ...                                                ...   \n",
       "245  Dermatitis  I have experienced a loss of interest in activ...   \n",
       "246  Dermatitis  The oozing and crusting on my skin have made m...   \n",
       "247  Dermatitis  The darkening of my skin around my eyes has ma...   \n",
       "248  Dermatitis  I have noticed a decline in my overall health ...   \n",
       "249  Dermatitis  The raw, sensitive skin from scratching has ma...   \n",
       "\n",
       "                               User_input_preprocessed  \\\n",
       "0    experiencing skin rash arms legs torso past we...   \n",
       "1    skin peeling especially knees elbows scalp pee...   \n",
       "2    experiencing joint pain fingers wrists knees p...   \n",
       "3    silver like dusting skin especially lower back...   \n",
       "4    nails small dents pits often feel inflammatory...   \n",
       "..                                                 ...   \n",
       "245  experienced loss interest activities hobbies e...   \n",
       "246  oozing crusting skin made feel unclean uncomfo...   \n",
       "247  darkening skin around eyes made feel older les...   \n",
       "248  noticed decline overall health wellbeing due c...   \n",
       "249  raw sensitive skin scratching made painful eng...   \n",
       "\n",
       "                           User_input_token_whitespace  \\\n",
       "0    [experiencing, skin, rash, arms, legs, torso, ...   \n",
       "1    [skin, peeling, especially, knees, elbows, sca...   \n",
       "2    [experiencing, joint, pain, fingers, wrists, k...   \n",
       "3    [silver, like, dusting, skin, especially, lowe...   \n",
       "4    [nails, small, dents, pits, often, feel, infla...   \n",
       "..                                                 ...   \n",
       "245  [experienced, loss, interest, activities, hobb...   \n",
       "246  [oozing, crusting, skin, made, feel, unclean, ...   \n",
       "247  [darkening, skin, around, eyes, made, feel, ol...   \n",
       "248  [noticed, decline, overall, health, wellbeing,...   \n",
       "249  [raw, sensitive, skin, scratching, made, painf...   \n",
       "\n",
       "                             User_input_token_treebank  \\\n",
       "0    experiencing skin rash arms legs torso past we...   \n",
       "1    skin peeling especially knees elbows scalp pee...   \n",
       "2    experiencing joint pain fingers wrists knees p...   \n",
       "3    silver like dusting skin especially lower back...   \n",
       "4    nails small dents pits often feel inflammatory...   \n",
       "..                                                 ...   \n",
       "245  experienced loss interest activities hobbies e...   \n",
       "246  oozing crusting skin made feel unclean uncomfo...   \n",
       "247  darkening skin around eyes made feel older les...   \n",
       "248  noticed decline overall health wellbeing due c...   \n",
       "249  raw sensitive skin scratching made painful eng...   \n",
       "\n",
       "                            User_input_token_wordpunct  \n",
       "0    [experiencing, skin, rash, arms, legs, torso, ...  \n",
       "1    [skin, peeling, especially, knees, elbows, sca...  \n",
       "2    [experiencing, joint, pain, fingers, wrists, k...  \n",
       "3    [silver, like, dusting, skin, especially, lowe...  \n",
       "4    [nails, small, dents, pits, often, feel, infla...  \n",
       "..                                                 ...  \n",
       "245  [experienced, loss, interest, activities, hobb...  \n",
       "246  [oozing, crusting, skin, made, feel, unclean, ...  \n",
       "247  [darkening, skin, around, eyes, made, feel, ol...  \n",
       "248  [noticed, decline, overall, health, wellbeing,...  \n",
       "249  [raw, sensitive, skin, scratching, made, painf...  \n",
       "\n",
       "[250 rows x 6 columns]"
      ]
     },
     "metadata": {},
     "output_type": "display_data"
    }
   ],
   "source": [
    "display(data)"
   ]
  },
  {
   "cell_type": "markdown",
   "metadata": {},
   "source": [
    "### Stemming & Lamitization\n",
    "\n",
    "#### Stemming\n",
    "Stemming is the process of reducing words to their word stems or roots by removing suffixes or prefixes. It uses simple rules to chop off ends of words, potentially resulting in non-real words.\n",
    "\n",
    "#### Lemmatization\n",
    "Lemmatization, on the other hand, involves reducing words to their base or canonical form, known as the lemma, by considering the morphological analysis of the word. This process involves dictionary lookup to find the lemma, making it more accurate but potentially slower than stemming."
   ]
  },
  {
   "cell_type": "code",
   "execution_count": 93,
   "metadata": {},
   "outputs": [
    {
     "name": "stderr",
     "output_type": "stream",
     "text": [
      "[nltk_data] Downloading package wordnet to\n",
      "[nltk_data]     C:\\Users\\Maria\\AppData\\Roaming\\nltk_data...\n"
     ]
    },
    {
     "data": {
      "text/plain": [
       "True"
      ]
     },
     "execution_count": 93,
     "metadata": {},
     "output_type": "execute_result"
    }
   ],
   "source": [
    "#nltk.download('wordnet')"
   ]
  },
  {
   "cell_type": "code",
   "execution_count": 99,
   "metadata": {},
   "outputs": [],
   "source": [
    "# Stemming\n",
    "stemmer = nltk.stem.PorterStemmer()\n",
    "data['User_input_stemmed'] = data['User_input_token_whitespace'].apply(lambda x: [stemmer.stem(word) for word in x])\n",
    "\n",
    "# Lemmatization\n",
    "lemmatizer = nltk.stem.WordNetLemmatizer()\n",
    "data['User_input_lemmatized'] = data['User_input_token_whitespace'].apply(lambda x: [lemmatizer.lemmatize(word) for word in x])"
   ]
  },
  {
   "cell_type": "code",
   "execution_count": 100,
   "metadata": {},
   "outputs": [
    {
     "data": {
      "text/html": [
       "<div>\n",
       "<style scoped>\n",
       "    .dataframe tbody tr th:only-of-type {\n",
       "        vertical-align: middle;\n",
       "    }\n",
       "\n",
       "    .dataframe tbody tr th {\n",
       "        vertical-align: top;\n",
       "    }\n",
       "\n",
       "    .dataframe thead th {\n",
       "        text-align: right;\n",
       "    }\n",
       "</style>\n",
       "<table border=\"1\" class=\"dataframe\">\n",
       "  <thead>\n",
       "    <tr style=\"text-align: right;\">\n",
       "      <th></th>\n",
       "      <th>Disease</th>\n",
       "      <th>User_input</th>\n",
       "      <th>User_input_preprocessed</th>\n",
       "      <th>User_input_token_whitespace</th>\n",
       "      <th>User_input_token_treebank</th>\n",
       "      <th>User_input_token_wordpunct</th>\n",
       "      <th>User_input_stemmed</th>\n",
       "      <th>User_input_lemmatized</th>\n",
       "    </tr>\n",
       "  </thead>\n",
       "  <tbody>\n",
       "    <tr>\n",
       "      <th>0</th>\n",
       "      <td>Psoriasis</td>\n",
       "      <td>I have been experiencing a skin rash on my arm...</td>\n",
       "      <td>experiencing skin rash arms legs torso past we...</td>\n",
       "      <td>[experiencing, skin, rash, arms, legs, torso, ...</td>\n",
       "      <td>experiencing skin rash arms legs torso past we...</td>\n",
       "      <td>[experiencing, skin, rash, arms, legs, torso, ...</td>\n",
       "      <td>[experienc, skin, rash, arm, leg, torso, past,...</td>\n",
       "      <td>[experiencing, skin, rash, arm, leg, torso, pa...</td>\n",
       "    </tr>\n",
       "    <tr>\n",
       "      <th>1</th>\n",
       "      <td>Psoriasis</td>\n",
       "      <td>My skin has been peeling, especially on my kne...</td>\n",
       "      <td>skin peeling especially knees elbows scalp pee...</td>\n",
       "      <td>[skin, peeling, especially, knees, elbows, sca...</td>\n",
       "      <td>skin peeling especially knees elbows scalp pee...</td>\n",
       "      <td>[skin, peeling, especially, knees, elbows, sca...</td>\n",
       "      <td>[skin, peel, especi, knee, elbow, scalp, peel,...</td>\n",
       "      <td>[skin, peeling, especially, knee, elbow, scalp...</td>\n",
       "    </tr>\n",
       "    <tr>\n",
       "      <th>2</th>\n",
       "      <td>Psoriasis</td>\n",
       "      <td>I have been experiencing joint pain in my fing...</td>\n",
       "      <td>experiencing joint pain fingers wrists knees p...</td>\n",
       "      <td>[experiencing, joint, pain, fingers, wrists, k...</td>\n",
       "      <td>experiencing joint pain fingers wrists knees p...</td>\n",
       "      <td>[experiencing, joint, pain, fingers, wrists, k...</td>\n",
       "      <td>[experienc, joint, pain, finger, wrist, knee, ...</td>\n",
       "      <td>[experiencing, joint, pain, finger, wrist, kne...</td>\n",
       "    </tr>\n",
       "    <tr>\n",
       "      <th>3</th>\n",
       "      <td>Psoriasis</td>\n",
       "      <td>There is a silver like dusting on my skin, esp...</td>\n",
       "      <td>silver like dusting skin especially lower back...</td>\n",
       "      <td>[silver, like, dusting, skin, especially, lowe...</td>\n",
       "      <td>silver like dusting skin especially lower back...</td>\n",
       "      <td>[silver, like, dusting, skin, especially, lowe...</td>\n",
       "      <td>[silver, like, dust, skin, especi, lower, back...</td>\n",
       "      <td>[silver, like, dusting, skin, especially, lowe...</td>\n",
       "    </tr>\n",
       "    <tr>\n",
       "      <th>4</th>\n",
       "      <td>Psoriasis</td>\n",
       "      <td>My nails have small dents or pits in them, and...</td>\n",
       "      <td>nails small dents pits often feel inflammatory...</td>\n",
       "      <td>[nails, small, dents, pits, often, feel, infla...</td>\n",
       "      <td>nails small dents pits often feel inflammatory...</td>\n",
       "      <td>[nails, small, dents, pits, often, feel, infla...</td>\n",
       "      <td>[nail, small, dent, pit, often, feel, inflamma...</td>\n",
       "      <td>[nail, small, dent, pit, often, feel, inflamma...</td>\n",
       "    </tr>\n",
       "    <tr>\n",
       "      <th>...</th>\n",
       "      <td>...</td>\n",
       "      <td>...</td>\n",
       "      <td>...</td>\n",
       "      <td>...</td>\n",
       "      <td>...</td>\n",
       "      <td>...</td>\n",
       "      <td>...</td>\n",
       "      <td>...</td>\n",
       "    </tr>\n",
       "    <tr>\n",
       "      <th>245</th>\n",
       "      <td>Dermatitis</td>\n",
       "      <td>I have experienced a loss of interest in activ...</td>\n",
       "      <td>experienced loss interest activities hobbies e...</td>\n",
       "      <td>[experienced, loss, interest, activities, hobb...</td>\n",
       "      <td>experienced loss interest activities hobbies e...</td>\n",
       "      <td>[experienced, loss, interest, activities, hobb...</td>\n",
       "      <td>[experienc, loss, interest, activ, hobbi, enjo...</td>\n",
       "      <td>[experienced, loss, interest, activity, hobby,...</td>\n",
       "    </tr>\n",
       "    <tr>\n",
       "      <th>246</th>\n",
       "      <td>Dermatitis</td>\n",
       "      <td>The oozing and crusting on my skin have made m...</td>\n",
       "      <td>oozing crusting skin made feel unclean uncomfo...</td>\n",
       "      <td>[oozing, crusting, skin, made, feel, unclean, ...</td>\n",
       "      <td>oozing crusting skin made feel unclean uncomfo...</td>\n",
       "      <td>[oozing, crusting, skin, made, feel, unclean, ...</td>\n",
       "      <td>[ooz, crust, skin, made, feel, unclean, uncomf...</td>\n",
       "      <td>[oozing, crusting, skin, made, feel, unclean, ...</td>\n",
       "    </tr>\n",
       "    <tr>\n",
       "      <th>247</th>\n",
       "      <td>Dermatitis</td>\n",
       "      <td>The darkening of my skin around my eyes has ma...</td>\n",
       "      <td>darkening skin around eyes made feel older les...</td>\n",
       "      <td>[darkening, skin, around, eyes, made, feel, ol...</td>\n",
       "      <td>darkening skin around eyes made feel older les...</td>\n",
       "      <td>[darkening, skin, around, eyes, made, feel, ol...</td>\n",
       "      <td>[darken, skin, around, eye, made, feel, older,...</td>\n",
       "      <td>[darkening, skin, around, eye, made, feel, old...</td>\n",
       "    </tr>\n",
       "    <tr>\n",
       "      <th>248</th>\n",
       "      <td>Dermatitis</td>\n",
       "      <td>I have noticed a decline in my overall health ...</td>\n",
       "      <td>noticed decline overall health wellbeing due c...</td>\n",
       "      <td>[noticed, decline, overall, health, wellbeing,...</td>\n",
       "      <td>noticed decline overall health wellbeing due c...</td>\n",
       "      <td>[noticed, decline, overall, health, wellbeing,...</td>\n",
       "      <td>[notic, declin, overal, health, wellb, due, ch...</td>\n",
       "      <td>[noticed, decline, overall, health, wellbeing,...</td>\n",
       "    </tr>\n",
       "    <tr>\n",
       "      <th>249</th>\n",
       "      <td>Dermatitis</td>\n",
       "      <td>The raw, sensitive skin from scratching has ma...</td>\n",
       "      <td>raw sensitive skin scratching made painful eng...</td>\n",
       "      <td>[raw, sensitive, skin, scratching, made, painf...</td>\n",
       "      <td>raw sensitive skin scratching made painful eng...</td>\n",
       "      <td>[raw, sensitive, skin, scratching, made, painf...</td>\n",
       "      <td>[raw, sensit, skin, scratch, made, pain, engag...</td>\n",
       "      <td>[raw, sensitive, skin, scratching, made, painf...</td>\n",
       "    </tr>\n",
       "  </tbody>\n",
       "</table>\n",
       "<p>250 rows × 8 columns</p>\n",
       "</div>"
      ],
      "text/plain": [
       "        Disease                                         User_input  \\\n",
       "0     Psoriasis  I have been experiencing a skin rash on my arm...   \n",
       "1     Psoriasis  My skin has been peeling, especially on my kne...   \n",
       "2     Psoriasis  I have been experiencing joint pain in my fing...   \n",
       "3     Psoriasis  There is a silver like dusting on my skin, esp...   \n",
       "4     Psoriasis  My nails have small dents or pits in them, and...   \n",
       "..          ...                                                ...   \n",
       "245  Dermatitis  I have experienced a loss of interest in activ...   \n",
       "246  Dermatitis  The oozing and crusting on my skin have made m...   \n",
       "247  Dermatitis  The darkening of my skin around my eyes has ma...   \n",
       "248  Dermatitis  I have noticed a decline in my overall health ...   \n",
       "249  Dermatitis  The raw, sensitive skin from scratching has ma...   \n",
       "\n",
       "                               User_input_preprocessed  \\\n",
       "0    experiencing skin rash arms legs torso past we...   \n",
       "1    skin peeling especially knees elbows scalp pee...   \n",
       "2    experiencing joint pain fingers wrists knees p...   \n",
       "3    silver like dusting skin especially lower back...   \n",
       "4    nails small dents pits often feel inflammatory...   \n",
       "..                                                 ...   \n",
       "245  experienced loss interest activities hobbies e...   \n",
       "246  oozing crusting skin made feel unclean uncomfo...   \n",
       "247  darkening skin around eyes made feel older les...   \n",
       "248  noticed decline overall health wellbeing due c...   \n",
       "249  raw sensitive skin scratching made painful eng...   \n",
       "\n",
       "                           User_input_token_whitespace  \\\n",
       "0    [experiencing, skin, rash, arms, legs, torso, ...   \n",
       "1    [skin, peeling, especially, knees, elbows, sca...   \n",
       "2    [experiencing, joint, pain, fingers, wrists, k...   \n",
       "3    [silver, like, dusting, skin, especially, lowe...   \n",
       "4    [nails, small, dents, pits, often, feel, infla...   \n",
       "..                                                 ...   \n",
       "245  [experienced, loss, interest, activities, hobb...   \n",
       "246  [oozing, crusting, skin, made, feel, unclean, ...   \n",
       "247  [darkening, skin, around, eyes, made, feel, ol...   \n",
       "248  [noticed, decline, overall, health, wellbeing,...   \n",
       "249  [raw, sensitive, skin, scratching, made, painf...   \n",
       "\n",
       "                             User_input_token_treebank  \\\n",
       "0    experiencing skin rash arms legs torso past we...   \n",
       "1    skin peeling especially knees elbows scalp pee...   \n",
       "2    experiencing joint pain fingers wrists knees p...   \n",
       "3    silver like dusting skin especially lower back...   \n",
       "4    nails small dents pits often feel inflammatory...   \n",
       "..                                                 ...   \n",
       "245  experienced loss interest activities hobbies e...   \n",
       "246  oozing crusting skin made feel unclean uncomfo...   \n",
       "247  darkening skin around eyes made feel older les...   \n",
       "248  noticed decline overall health wellbeing due c...   \n",
       "249  raw sensitive skin scratching made painful eng...   \n",
       "\n",
       "                            User_input_token_wordpunct  \\\n",
       "0    [experiencing, skin, rash, arms, legs, torso, ...   \n",
       "1    [skin, peeling, especially, knees, elbows, sca...   \n",
       "2    [experiencing, joint, pain, fingers, wrists, k...   \n",
       "3    [silver, like, dusting, skin, especially, lowe...   \n",
       "4    [nails, small, dents, pits, often, feel, infla...   \n",
       "..                                                 ...   \n",
       "245  [experienced, loss, interest, activities, hobb...   \n",
       "246  [oozing, crusting, skin, made, feel, unclean, ...   \n",
       "247  [darkening, skin, around, eyes, made, feel, ol...   \n",
       "248  [noticed, decline, overall, health, wellbeing,...   \n",
       "249  [raw, sensitive, skin, scratching, made, painf...   \n",
       "\n",
       "                                    User_input_stemmed  \\\n",
       "0    [experienc, skin, rash, arm, leg, torso, past,...   \n",
       "1    [skin, peel, especi, knee, elbow, scalp, peel,...   \n",
       "2    [experienc, joint, pain, finger, wrist, knee, ...   \n",
       "3    [silver, like, dust, skin, especi, lower, back...   \n",
       "4    [nail, small, dent, pit, often, feel, inflamma...   \n",
       "..                                                 ...   \n",
       "245  [experienc, loss, interest, activ, hobbi, enjo...   \n",
       "246  [ooz, crust, skin, made, feel, unclean, uncomf...   \n",
       "247  [darken, skin, around, eye, made, feel, older,...   \n",
       "248  [notic, declin, overal, health, wellb, due, ch...   \n",
       "249  [raw, sensit, skin, scratch, made, pain, engag...   \n",
       "\n",
       "                                 User_input_lemmatized  \n",
       "0    [experiencing, skin, rash, arm, leg, torso, pa...  \n",
       "1    [skin, peeling, especially, knee, elbow, scalp...  \n",
       "2    [experiencing, joint, pain, finger, wrist, kne...  \n",
       "3    [silver, like, dusting, skin, especially, lowe...  \n",
       "4    [nail, small, dent, pit, often, feel, inflamma...  \n",
       "..                                                 ...  \n",
       "245  [experienced, loss, interest, activity, hobby,...  \n",
       "246  [oozing, crusting, skin, made, feel, unclean, ...  \n",
       "247  [darkening, skin, around, eye, made, feel, old...  \n",
       "248  [noticed, decline, overall, health, wellbeing,...  \n",
       "249  [raw, sensitive, skin, scratching, made, painf...  \n",
       "\n",
       "[250 rows x 8 columns]"
      ]
     },
     "metadata": {},
     "output_type": "display_data"
    }
   ],
   "source": [
    "display(data)"
   ]
  },
  {
   "cell_type": "markdown",
   "metadata": {},
   "source": [
    "## Data spliting"
   ]
  },
  {
   "cell_type": "markdown",
   "metadata": {},
   "source": [
    "Once the dataset was created by the group, we decided to create a balanced dataset to make the next steps easier."
   ]
  },
  {
   "cell_type": "code",
   "execution_count": null,
   "metadata": {},
   "outputs": [
    {
     "name": "stdout",
     "output_type": "stream",
     "text": [
      "Train dataset contains 200 rows and 2 columns.\n",
      "Test dataset contains 50 rows and 2 columns.\n"
     ]
    }
   ],
   "source": [
    "# Split dataset into training and testing sets\n",
    "# Create a test and a train dataframe\n",
    "train, test = train_test_split(data, test_size=0.2, random_state=42)\n",
    "\n",
    "# Check splitting\n",
    "print(f\"Train dataset contains {train.shape[0]} rows and {train.shape[1]} columns.\")\n",
    "print(f\"Test dataset contains {test.shape[0]} rows and {test.shape[1]} columns.\")"
   ]
  },
  {
   "cell_type": "code",
   "execution_count": null,
   "metadata": {},
   "outputs": [],
   "source": [
    "#Create X and y train and test\n",
    "X_train = train['User_input']\n",
    "y_train = train['Disease']\n",
    "\n",
    "X_test = test['User_input']\n",
    "y_test = test['Disease']"
   ]
  },
  {
   "cell_type": "markdown",
   "metadata": {},
   "source": [
    "### Vectorize\n",
    "Vectorisation transforms the data into a matrix of counts for each word in the vocabulary, which is used to train the model."
   ]
  },
  {
   "cell_type": "code",
   "execution_count": null,
   "metadata": {},
   "outputs": [],
   "source": [
    "vectorizer = TfidfVectorizer()\n",
    "vectorizer.fit(X_train)\n",
    "\n",
    "X_train = vectorizer.transform(X_train)\n",
    "X_test = vectorizer.transform(X_test)"
   ]
  },
  {
   "cell_type": "markdown",
   "metadata": {},
   "source": [
    "## Text classification"
   ]
  }
 ],
 "metadata": {
  "kernelspec": {
   "display_name": "Python 3",
   "language": "python",
   "name": "python3"
  },
  "language_info": {
   "codemirror_mode": {
    "name": "ipython",
    "version": 3
   },
   "file_extension": ".py",
   "mimetype": "text/x-python",
   "name": "python",
   "nbconvert_exporter": "python",
   "pygments_lexer": "ipython3",
   "version": "3.11.8"
  }
 },
 "nbformat": 4,
 "nbformat_minor": 2
}
