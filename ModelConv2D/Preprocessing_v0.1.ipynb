{
 "cells": [
  {
   "cell_type": "code",
   "execution_count": 11,
   "id": "331b22a1",
   "metadata": {},
   "outputs": [
    {
     "name": "stdout",
     "output_type": "stream",
     "text": [
      "Número de imagens de treino carregadas: 0\n",
      "Número de imagens de teste carregadas: 0\n"
     ]
    }
   ],
   "source": [
    "import os\n",
    "import cv2\n",
    "import numpy as np\n",
    "\n",
    "# Função para carregar imagens de uma pasta\n",
    "def load_images_from_folder(folder):\n",
    "    images = []\n",
    "    for filename in os.listdir(folder):\n",
    "        img = cv2.imread(os.path.join(folder, filename))\n",
    "        if img is not None:\n",
    "            images.append(img)\n",
    "    return images\n",
    "\n",
    "# Diretório onde estão as imagens\n",
    "train_folder = '/Users/hugopereira/DatasetMEIA/train'\n",
    "test_folder = '/Users/hugopereira/DatasetMEIA/test'\n",
    "\n",
    "# Carregar imagens de treino e teste\n",
    "train_images = load_images_from_folder(train_folder)\n",
    "test_images = load_images_from_folder(test_folder)\n",
    "\n",
    "# Verificar se as imagens foram carregadas corretamente\n",
    "print(f\"Número de imagens de treino carregadas: {len(train_images)}\")\n",
    "print(f\"Número de imagens de teste carregadas: {len(test_images)}\")\n",
    "\n",
    "# Redimensionar imagens\n",
    "def resize_images(images, new_size):\n",
    "    resized_images = []\n",
    "    for img in images:\n",
    "        resized_img = cv2.resize(img, new_size)\n",
    "        resized_images.append(resized_img)\n",
    "    return resized_images\n",
    "\n",
    "# Tamanho desejado para as imagens (224x224)\n",
    "new_size = (224, 224)\n",
    "\n",
    "# Redimensionar imagens de treino e teste\n",
    "train_images_resized = resize_images(train_images, new_size)\n",
    "test_images_resized = resize_images(test_images, new_size)\n",
    "\n",
    "# Converter listas de imagens para arrays numpy\n",
    "train_images_array = np.array(train_images_resized)\n",
    "test_images_array = np.array(test_images_resized)"
   ]
  },
  {
   "cell_type": "code",
   "execution_count": 12,
   "id": "b740c78d",
   "metadata": {},
   "outputs": [
    {
     "name": "stdout",
     "output_type": "stream",
     "text": [
      "Shape do array de imagens de treino: (0,)\n",
      "Shape do array de imagens de teste: (0,)\n"
     ]
    }
   ],
   "source": [
    "# Verificar as formas dos arrays de imagens\n",
    "print(f\"Shape do array de imagens de treino: {train_images_array.shape}\")\n",
    "print(f\"Shape do array de imagens de teste: {test_images_array.shape}\")"
   ]
  },
  {
   "cell_type": "code",
   "execution_count": 7,
   "id": "0ffaff93",
   "metadata": {},
   "outputs": [],
   "source": [
    "# Redimensionar as imagens\n",
    "def resize_images(images, new_size):\n",
    "    resized_images = []\n",
    "    for img in images:\n",
    "        resized_img = cv2.resize(img, new_size)\n",
    "        resized_images.append(resized_img)\n",
    "    return resized_images\n",
    "\n",
    "# Redimensionar imagens para um tamanho comum (224, 224)\n",
    "new_size = (224, 224)\n",
    "train_images_resized = resize_images(train_images, new_size)\n",
    "test_images_resized = resize_images(test_images, new_size)"
   ]
  },
  {
   "cell_type": "code",
   "execution_count": 8,
   "id": "481623d7",
   "metadata": {},
   "outputs": [],
   "source": [
    "# Normalização\n",
    "import numpy as np\n",
    "\n",
    "def normalize_images(images):\n",
    "    normalized_images = []\n",
    "    for img in images:\n",
    "        normalized_img = img / 255.0  # Normalizar os valores dos pixels para o intervalo [0, 1]\n",
    "        normalized_images.append(normalized_img)\n",
    "    return np.array(normalized_images)\n",
    "\n",
    "# Normalizar imagens de treinamento e teste\n",
    "train_images_normalized = normalize_images(train_images_resized)\n",
    "test_images_normalized = normalize_images(test_images_resized)"
   ]
  },
  {
   "cell_type": "code",
   "execution_count": 9,
   "id": "ab40c7ff",
   "metadata": {},
   "outputs": [],
   "source": [
    "#Augmentation\n",
    "\n",
    "from keras.preprocessing.image import ImageDataGenerator\n",
    "\n",
    "# Criar um gerador de imagens com técnicas de aumento de dados\n",
    "datagen = ImageDataGenerator(\n",
    "    rotation_range=20,\n",
    "    width_shift_range=0.1,\n",
    "    height_shift_range=0.1,\n",
    "    zoom_range=0.2,\n",
    "    horizontal_flip=True,\n",
    "    brightness_range=[0.8, 1.2]\n",
    ")\n",
    "\n",
    "# Redimensionar imagens para o formato esperado pelo ImageDataGenerator\n",
    "train_images_normalized_resized = train_images_normalized.reshape(-1, new_size[0], new_size[1], 3)\n",
    "\n",
    "# Ajustar o gerador às imagens de treinamento\n",
    "datagen.fit(train_images_normalized_resized)"
   ]
  },
  {
   "cell_type": "code",
   "execution_count": 10,
   "id": "7dd58af2",
   "metadata": {},
   "outputs": [
    {
     "ename": "ValueError",
     "evalue": "cannot reshape array of size 0 into shape (0,newaxis)",
     "output_type": "error",
     "traceback": [
      "\u001b[0;31m---------------------------------------------------------------------------\u001b[0m",
      "\u001b[0;31mValueError\u001b[0m                                Traceback (most recent call last)",
      "Cell \u001b[0;32mIn[10], line 6\u001b[0m\n\u001b[1;32m      3\u001b[0m \u001b[38;5;28;01mfrom\u001b[39;00m \u001b[38;5;21;01mimblearn\u001b[39;00m\u001b[38;5;21;01m.\u001b[39;00m\u001b[38;5;21;01mover_sampling\u001b[39;00m \u001b[38;5;28;01mimport\u001b[39;00m RandomOverSampler\n\u001b[1;32m      5\u001b[0m \u001b[38;5;66;03m# Redimensionar as imagens para o formato esperado pelo RandomOverSampler\u001b[39;00m\n\u001b[0;32m----> 6\u001b[0m train_images_flattened \u001b[38;5;241m=\u001b[39m train_images_normalized\u001b[38;5;241m.\u001b[39mreshape(train_images_normalized\u001b[38;5;241m.\u001b[39mshape[\u001b[38;5;241m0\u001b[39m], \u001b[38;5;241m-\u001b[39m\u001b[38;5;241m1\u001b[39m)\n\u001b[1;32m      8\u001b[0m \u001b[38;5;66;03m# Aplicar oversampling\u001b[39;00m\n\u001b[1;32m      9\u001b[0m oversampler \u001b[38;5;241m=\u001b[39m RandomOverSampler()\n",
      "\u001b[0;31mValueError\u001b[0m: cannot reshape array of size 0 into shape (0,newaxis)"
     ]
    }
   ],
   "source": [
    "# Balanceamento de classes\n",
    "\n",
    "from imblearn.over_sampling import RandomOverSampler\n",
    "\n",
    "# Redimensionar as imagens para o formato esperado pelo RandomOverSampler\n",
    "train_images_flattened = train_images_normalized.reshape(train_images_normalized.shape[0], -1)\n",
    "\n",
    "# Aplicar oversampling\n",
    "oversampler = RandomOverSampler()\n",
    "train_images_balanced, train_labels_balanced = oversampler.fit_resample(train_images_flattened, train_labels)"
   ]
  },
  {
   "cell_type": "code",
   "execution_count": null,
   "id": "09eac87a",
   "metadata": {},
   "outputs": [],
   "source": [
    "# Guardar o data-set pre-processado\n",
    "\n",
    "# Guardar imagens pré-processadas e rótulos em arquivos NumPy\n",
    "np.save('train_images.npy', train_images_balanced)\n",
    "np.save('train_labels.npy', train_labels_balanced)\n",
    "np.save('test_images.npy', test_images_normalized)\n",
    "np.save('test_labels.npy', test_labels)"
   ]
  }
 ],
 "metadata": {
  "kernelspec": {
   "display_name": "Python 3 (ipykernel)",
   "language": "python",
   "name": "python3"
  },
  "language_info": {
   "codemirror_mode": {
    "name": "ipython",
    "version": 3
   },
   "file_extension": ".py",
   "mimetype": "text/x-python",
   "name": "python",
   "nbconvert_exporter": "python",
   "pygments_lexer": "ipython3",
   "version": "3.11.5"
  }
 },
 "nbformat": 4,
 "nbformat_minor": 5
}
