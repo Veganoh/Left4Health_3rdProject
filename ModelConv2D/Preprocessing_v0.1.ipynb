{
 "cells": [
  {
   "cell_type": "code",
   "execution_count": 21,
   "id": "c77c80ea-7cf0-4a17-a10b-6d48c35e459a",
   "metadata": {},
   "outputs": [],
   "source": [
    "import os\n",
    "import glob\n",
    "import cv2\n",
    "import numpy as np\n",
    "import hashlib"
   ]
  },
  {
   "cell_type": "code",
   "execution_count": 17,
   "id": "331b22a1",
   "metadata": {},
   "outputs": [
    {
     "name": "stdout",
     "output_type": "stream",
     "text": [
      "O caminho existe e está acessível.\n",
      "A iterar C:/Dev/DatasetMEIA/train\\Atopic Dermatitis Photos\n",
      "A iterar C:/Dev/DatasetMEIA/train\\Lupus and other Connective Tissue diseases\n",
      "A iterar C:/Dev/DatasetMEIA/train\\Melanoma Skin Cancer Nevi and Moles\n",
      "A iterar C:/Dev/DatasetMEIA/train\\Psoriasis pictures Lichen Planus and related diseases\n",
      "A iterar C:/Dev/DatasetMEIA/train\\Urticaria Hives\n",
      "Fim do carregamento de imagens\n",
      "A iterar C:/Dev/DatasetMEIA/test\\Atopic Dermatitis Photos\n",
      "A iterar C:/Dev/DatasetMEIA/test\\Lupus and other Connective Tissue diseases\n",
      "A iterar C:/Dev/DatasetMEIA/test\\Melanoma Skin Cancer Nevi and Moles\n",
      "A iterar C:/Dev/DatasetMEIA/test\\Psoriasis pictures Lichen Planus and related diseases\n",
      "A iterar C:/Dev/DatasetMEIA/test\\Urticaria Hives\n",
      "Fim do carregamento de imagens\n",
      "Número de imagens de treino carregadas: 2989\n",
      "Número de imagens de teste carregadas: 749\n"
     ]
    }
   ],
   "source": [
    "#Função para calcular uma hash para cada imagem\n",
    "def calculate_hash(img):\n",
    "    return hashlib.sha256(img).hexdigest()\n",
    "\n",
    "# Função para carregar imagens de uma pasta\n",
    "def load_images_from_folder(folder):\n",
    "    images = []\n",
    "    hashes=[]\n",
    "    path=[]\n",
    "    #Considera todas as pastas dentro do diretorio que se encontra\n",
    "    disease_folder=glob.glob(os.path.join(folder, \"*\"))\n",
    "    for files in disease_folder:\n",
    "        print(f\"A iterar {files}\")\n",
    "        for filename in os.listdir(files):\n",
    "            try:\n",
    "                img = cv2.imread(os.path.join(files, filename),cv2.IMREAD_UNCHANGED)\n",
    "                if img is not None:\n",
    "                    images.append(img)\n",
    "                    path.append(filename)\n",
    "                    hash_imagem=calculate_hash(img)\n",
    "                    hashes.append(hash_imagem)\n",
    "                else:\n",
    "                    print(f\"Não foi possível carregar a imagem: {filename}\")\n",
    "            except Exception as e:\n",
    "                    print(f\"Erro ao carregar a imagem {filename}: {str(e)}\")\n",
    "    print(\"Fim do carregamento de imagens\")            \n",
    "    return images, hashes, path\n",
    "\n",
    "# Diretório onde estão as imagens\n",
    "#train_folder = '/Users/hugopereira/DatasetMEIA/train'\n",
    "#test_folder = '/Users/hugopereira/DatasetMEIA/test'\n",
    "train_folder = 'C:/Dev/DatasetMEIA/train'\n",
    "test_folder = 'C:/Dev/DatasetMEIA/test'\n",
    "if os.path.exists(train_folder):\n",
    "    print(\"O caminho existe e está acessível.\")\n",
    "else:\n",
    "    print(\"O caminho não existe ou não está acessível.\")\n",
    "\n",
    "# Carregar imagens de treino e teste\n",
    "train_images, train_hashes, train_names = load_images_from_folder(train_folder)\n",
    "test_images, test_hashes, test_names = load_images_from_folder(test_folder)\n",
    "\n",
    "# Verificar se as imagens foram carregadas corretamente\n",
    "print(f\"Número de imagens de treino carregadas: {len(train_images)}\")\n",
    "print(f\"Número de imagens de teste carregadas: {len(test_images)}\")"
   ]
  },
  {
   "cell_type": "code",
   "execution_count": 26,
   "id": "58d5d4a6-6a4f-499a-93d9-7d75a5bffa20",
   "metadata": {},
   "outputs": [
    {
     "name": "stdout",
     "output_type": "stream",
     "text": [
      "Imagens duplicadas encontradas no conjunto treino:\n",
      "[('05atopicChild0828062.jpg', '05atopicWrist0828064.jpg'), ('05AtopicDermHand.jpg', '05AtopicHand.jpg'), ('05AtopicDermHand.jpg', '05AtopicHandq.jpg'), ('05AtopicDermHand1.jpg', '05AtopicHand1q.jpg'), ('05AtopicWrist.jpg', '05AtopicWristq.jpg'), ('05pityriasisAlba94-GP3.jpg', '05pityriasisAlba94.jpg'), ('chilblains-perniosis-32.jpg', 'chilblains-perniosis-38.jpg'), ('lupus-chronic-cutaneous-10.jpg', 'lupus-chronic-cutaneous-11.jpg'), ('lupus-chronic-cutaneous-12.jpg', 'lupus-chronic-cutaneous-13.jpg'), ('morphea-35.jpg', 'morphea-36.jpg'), ('atypical-nevi-22.jpg', 'melanocytic-nevi-58.jpg'), ('atypical-nevi-24.jpg', 'melanocytic-nevi-19.jpg'), ('blue-nevus-11.jpg', 'blue-nevus-12.jpg'), ('congenital-nevus-26.jpg', 'congenital-nevus-27.jpg'), ('congenital-nevus-28.jpg', 'congenital-nevus-29.jpg'), ('congenital-nevus-46.jpg', 'melanocytic-nevi-7.jpg'), ('congenital-nevus-47.jpg', 'congenital-nevus-48.jpg'), ('malignant-melanoma-11.jpg', 'malignant-melanoma-95.jpg'), ('melanocytic-nevi-15.jpg', 'melanocytic-nevi-74.jpg'), ('nevus-spilus-2.jpg', 'nevus-spilus-23.jpg'), ('08LSASkin.jpg', 'Lichen-Sclerosus-Skin-42.jpg'), ('08PsoriasisPustular.jpg', 'psoriasis-palms-soles-101.jpg'), ('08SebDermEAr.jpg', '08SebDermEArq.jpg'), ('08SebDermq.jpg', 'seborrheic-dermatitis-8.jpg'), ('08SebDermScalp.jpg', '08SebDermScalpq.jpg'), ('Lichen-Planus-Hypertrophic-1.jpg', 'Lichen-Planus-Hypertrophic-14.jpg'), ('Lichen-Planus-Penis-4.jpg', 'Lichen-Sclerosus-Penis-1.jpg'), ('pityriasis-rosea-112.jpg', 'pityriasis-rosea-137.jpg'), ('psoriasis-erythrodermic-27.jpg', 'psoriasis-pustular-generalized-65.jpg'), ('psoriasis-erythrodermic-28.jpg', 'Psoriasis-Hand-33.jpg'), ('psoriasis-erythrodermic-29.jpg', 'psoriasis-erythrodermic-30.jpg'), ('psoriasis-erythrodermic-29.jpg', 'Psoriasis-Hand-27.jpg'), ('psoriasis-erythrodermic-31.jpg', 'Psoriasis-Hand-24.jpg'), ('psoriasis-erythrodermic-32.jpg', 'Psoriasis-Hand-23.jpg'), ('psoriasis-erythrodermic-34.jpg', 'Psoriasis-Hand-21.jpg'), ('Psoriasis-Guttate-25.jpg', 'Psoriasis-Guttate-41.jpg'), ('Psoriasis-Guttate-26.jpg', 'Psoriasis-Guttate-42.jpg'), ('Psoriasis-Hand-19.jpg', 'Psoriasis-Hand-20.jpg'), ('Psoriasis-Hand-19.jpg', 'psoriasis-palms-soles-137.jpg'), ('Psoriasis-Hand-25.jpg', 'Psoriasis-Hand-26.jpg'), ('Psoriasis-Hand-46.jpg', 'psoriasis-palms-soles-103.jpg'), ('Psoriasis-inversus-32.jpg', 'PsoriasisScrotumNail.jpg'), ('psoriasis-palms-soles-126.jpg', 'psoriasis-palms-soles-138.jpg'), ('psoriasis-palms-soles-79.jpg', 'psoriasis-palms-soles-80.jpg'), ('psoriasis-palms-soles-90.jpg', 'psoriasis-palms-soles-91.jpg'), ('psoriasis-scalp-68.jpg', 'seborrheic-dermatitis-127.jpg'), ('reiter-syndrome-20.jpg', 'reiter-syndrome-21.jpg'), ('dermagraphism-30.jpg', 'dermagraphism-40.jpg'), ('dermagraphism-30.jpg', 'dermagraphism-41.jpg'), ('pressure-urticaria-1.jpg', 'pressure-urticaria-2.jpg'), ('pressure-urticaria-1.jpg', 'pressure-urticaria-7.jpg')]\n",
      "-------------------------------------\n",
      "Imagens duplicadas encontradas no conjunto teste:\n",
      "[('melanocytic-nevi-75.jpg', 'nevus-repigmented-2.jpg'), ('Psoriasis-Chronic-Plaque-131.jpg', 'psoriasis-palms-soles-87.jpg'), ('seborrheic-dermatitis-78.jpg', 'seborrheic-dermatitis-89.jpg')]\n"
     ]
    }
   ],
   "source": [
    "#Verificar se existe imagens duplicadas\n",
    "def find_duplicate_hashes(caminhos_imagens, hashes_imagens):\n",
    "    duplicate=[]\n",
    "    check_hashes=set()\n",
    "    for i, hash_atual in enumerate(hashes_imagens):\n",
    "        if hash_atual not in check_hashes:\n",
    "            check_hashes.add(hash_atual)\n",
    "            for j in range(i + 1, len(hashes_imagens)):\n",
    "                if hash_atual == hashes_imagens[j]:\n",
    "                    duplicate.append((caminhos_imagens[i], caminhos_imagens[j]))\n",
    "\n",
    "    return duplicate\n",
    "\n",
    "def see_duplicate(duplicate, folder):\n",
    "    if len(duplicate)>0: \n",
    "        print(f\"Imagens duplicadas encontradas no conjunto {folder}:\")\n",
    "        print(duplicate)\n",
    "    else:\n",
    "        print(f\"Não foram encontradas imagens duplicadas no conjunto {folder}.\")\n",
    "\n",
    "duplicate_train=find_duplicate_hashes(train_names, train_hashes)\n",
    "see_duplicate(duplicate_train,\"treino\")\n",
    "print(\"-------------------------------------\")\n",
    "duplicate_test=find_duplicate_hashes(test_names, test_hashes)\n",
    "see_duplicate(duplicate_test, \"teste\")\n",
    "\n"
   ]
  },
  {
   "cell_type": "code",
   "execution_count": 40,
   "id": "9654bc13-6255-400b-91c7-bce9c54313a2",
   "metadata": {},
   "outputs": [
    {
     "name": "stdout",
     "output_type": "stream",
     "text": [
      "Número de imagens de treino redimensionadas: 2989\n",
      "Número de imagens de teste redimensionadas: 749\n"
     ]
    }
   ],
   "source": [
    "# Redimensionar imagens\n",
    "def resize_images(images, new_size):\n",
    "    resized_images = []\n",
    "    for img in images:\n",
    "        resized_img = cv2.resize(img, new_size)\n",
    "        resized_images.append(resized_img)\n",
    "    return resized_images\n",
    "\n",
    "# Tamanho desejado para as imagens (224x224)\n",
    "new_size = (224, 224)\n",
    "\n",
    "# Redimensionar imagens de treino e teste\n",
    "train_images_resized = resize_images(train_images, new_size)\n",
    "test_images_resized = resize_images(test_images, new_size)\n",
    "\n",
    "# Verificar se as imagens foram redimensionadas corretamente\n",
    "print(f\"Número de imagens de treino redimensionadas: {len(train_images_resized)}\")\n",
    "print(f\"Número de imagens de teste redimensionadas: {len(test_images_resized)}\")"
   ]
  },
  {
   "cell_type": "code",
   "execution_count": 41,
   "id": "9b10bb6a-b76e-48ce-8956-804574a286f6",
   "metadata": {},
   "outputs": [
    {
     "name": "stdout",
     "output_type": "stream",
     "text": [
      "Número de imagens de treino arrays numpy: 2989\n",
      "Número de imagens de teste arrays numpy: 749\n"
     ]
    }
   ],
   "source": [
    "# Converter listas de imagens para arrays numpy\n",
    "train_images_array = np.array(train_images_resized)\n",
    "test_images_array = np.array(test_images_resized)\n",
    "\n",
    "# Verificar se as imagens foram convertidas corretamente para arrays numpy\n",
    "print(f\"Número de imagens de treino arrays numpy: {len(train_images_array)}\")\n",
    "print(f\"Número de imagens de teste arrays numpy: {len(test_images_array)}\")"
   ]
  },
  {
   "cell_type": "code",
   "execution_count": 43,
   "id": "b740c78d",
   "metadata": {},
   "outputs": [
    {
     "name": "stdout",
     "output_type": "stream",
     "text": [
      "Shape do array de imagens de treino: (2989, 224, 224, 3)\n",
      "Shape do array de imagens de teste: (749, 224, 224, 3)\n"
     ]
    }
   ],
   "source": [
    "# Verificar as formas dos arrays de imagens\n",
    "print(f\"Shape do array de imagens de treino: {train_images_array.shape}\")\n",
    "print(f\"Shape do array de imagens de teste: {test_images_array.shape}\")"
   ]
  },
  {
   "cell_type": "code",
   "execution_count": 44,
   "id": "481623d7",
   "metadata": {},
   "outputs": [],
   "source": [
    "# Normalização\n",
    "def normalize_images(images):\n",
    "    normalized_images = []\n",
    "    for img in images:\n",
    "        normalized_img = img / 255.0  # Normalizar os valores dos pixels para o intervalo [0, 1]\n",
    "        normalized_images.append(normalized_img)\n",
    "    return np.array(normalized_images)\n",
    "\n",
    "# Normalizar imagens de treinamento e teste\n",
    "train_images_normalized = normalize_images(train_images_resized)\n",
    "test_images_normalized = normalize_images(test_images_resized)"
   ]
  },
  {
   "cell_type": "code",
   "execution_count": 45,
   "id": "ab40c7ff",
   "metadata": {},
   "outputs": [],
   "source": [
    "#Augmentation\n",
    "\n",
    "from keras.preprocessing.image import ImageDataGenerator\n",
    "\n",
    "# Criar um gerador de imagens com técnicas de aumento de dados\n",
    "datagen = ImageDataGenerator(\n",
    "    rotation_range=20,\n",
    "    width_shift_range=0.1,\n",
    "    height_shift_range=0.1,\n",
    "    zoom_range=0.2,\n",
    "    horizontal_flip=True,\n",
    "    brightness_range=[0.8, 1.2]\n",
    ")\n",
    "\n",
    "# Redimensionar imagens para o formato esperado pelo ImageDataGenerator\n",
    "train_images_normalized_resized = train_images_normalized.reshape(-1, new_size[0], new_size[1], 3)\n",
    "\n",
    "# Ajustar o gerador às imagens de treinamento\n",
    "datagen.fit(train_images_normalized_resized)"
   ]
  },
  {
   "cell_type": "code",
   "execution_count": 52,
   "id": "7dd58af2",
   "metadata": {},
   "outputs": [],
   "source": [
    "# Balanceamento de classes\n",
    "\n",
    "from imblearn.over_sampling import RandomOverSampler\n",
    "from keras.preprocessing.image import ImageDataGenerator\n",
    "\n",
    "#train_labels = [\n",
    "    #\"Lupus and other Connective Tissue diseases\",\n",
    "    #\"Atopic Dermatitis Photos\",\n",
    "    #\"Melanoma Skin Cancer Nevi and Moles\",\n",
    "    #\"Psoriasis pictures Lichen Planus and related diseases\",\n",
    "    #\"Urticaria Hives\"\n",
    "#]\n",
    "\n",
    "# Converter labels para números inteiros\n",
    "label_to_integer = {label: idx for idx, label in enumerate(train_labels)}\n",
    "train_labels_int = [label_to_integer[label] for label in train_labels]\n",
    "\n",
    "# Aplicar oversampling\n",
    "oversampler = RandomOverSampler()\n",
    "train_images_balanced, train_labels_balanced = oversampler.fit_resample(train_images_augmented.reshape(len(train_images_augmented), -1), train_labels_int)\n"
   ]
  },
  {
   "cell_type": "code",
   "execution_count": 48,
   "id": "2dc641e4-154f-48ce-b100-7faceb0a5ec8",
   "metadata": {},
   "outputs": [
    {
     "name": "stdout",
     "output_type": "stream",
     "text": [
      "Contagem de instâncias por classe antes do balanceamento: Counter({'Lupus and other Connective Tissue diseases': 1, 'Atopic Dermatitis Photos': 1, 'Melanoma Skin Cancer Nevi and Moles': 1, 'Psoriasis pictures Lichen Planus and related diseases': 1, 'Urticaria Hives': 1})\n",
      "Contagem de instâncias por classe depois do balanceamento: Counter({0: 1, 1: 1, 2: 1, 3: 1, 4: 1})\n"
     ]
    }
   ],
   "source": [
    "from collections import Counter\n",
    "\n",
    "# Contagem de instâncias por classe antes do balanceamento\n",
    "counter_before = Counter(train_labels)\n",
    "print(\"Contagem de instâncias por classe antes do balanceamento:\", counter_before)\n",
    "\n",
    "# Contagem de instâncias por classe depois do balanceamento\n",
    "counter_after = Counter(train_labels_balanced)\n",
    "print(\"Contagem de instâncias por classe depois do balanceamento:\", counter_after)\n"
   ]
  },
  {
   "cell_type": "code",
   "execution_count": 49,
   "id": "9d63e5ef-cb7a-4470-a97e-37da261abbb9",
   "metadata": {},
   "outputs": [
    {
     "name": "stdout",
     "output_type": "stream",
     "text": [
      "Rótulos únicos antes do balanceamento: ['Atopic Dermatitis Photos' 'Lupus and other Connective Tissue diseases'\n",
      " 'Melanoma Skin Cancer Nevi and Moles'\n",
      " 'Psoriasis pictures Lichen Planus and related diseases' 'Urticaria Hives']\n",
      "Rótulos únicos depois do balanceamento: [0 1 2 3 4]\n"
     ]
    }
   ],
   "source": [
    "import numpy as np\n",
    "\n",
    "# Verificar os rótulos únicos em train_labels e train_labels_balanced\n",
    "unique_labels = np.unique(train_labels)\n",
    "unique_labels_balanced = np.unique(train_labels_balanced)\n",
    "\n",
    "print(\"Rótulos únicos antes do balanceamento:\", unique_labels)\n",
    "print(\"Rótulos únicos depois do balanceamento:\", unique_labels_balanced)\n"
   ]
  },
  {
   "cell_type": "code",
   "execution_count": 53,
   "id": "ad6728fe-91a9-4d7d-a249-891fc3fca42f",
   "metadata": {},
   "outputs": [
    {
     "data": {
      "image/png": "[encoded data removed]",
      "text/plain": [
       "<Figure size 1000x500 with 1 Axes>"
      ]
     },
     "metadata": {},
     "output_type": "display_data"
    }
   ],
   "source": [
    "import matplotlib.pyplot as plt\n",
    "from collections import Counter\n",
    "\n",
    "# Contagem de instâncias por classe depois do balanceamento\n",
    "counter_after = Counter(train_labels_balanced)\n",
    "labels_after, counts_after = zip(*sorted(counter_after.items()))  # Ordenando os rótulos e contagens\n",
    "\n",
    "# Gráfico de barras depois do balanceamento\n",
    "plt.figure(figsize=(10, 5))\n",
    "plt.bar(labels_after, counts_after, color='red', alpha=0.5)\n",
    "plt.xlabel('Classes')\n",
    "plt.ylabel('Contagem de instâncias')\n",
    "plt.title('Distribuição das Classes após o Balanceamento')\n",
    "plt.xticks(rotation=45)\n",
    "plt.tight_layout()\n",
    "plt.show()\n"
   ]
  },
  {
   "cell_type": "code",
   "execution_count": 58,
   "id": "09eac87a",
   "metadata": {},
   "outputs": [],
   "source": [
    "# Guardar o data-set pre-processado\n",
    "\n",
    "# Guardar imagens pré-processadas e rótulos em arquivos NumPy\n",
    "np.save('train_images.npy', train_images_balanced)\n",
    "np.save('train_labels.npy', train_labels_balanced)\n",
    "np.save('test_images.npy', test_images_normalized)\n",
    "#np.save('test_labels.npy', test_labels)"
   ]
  }
 ],
 "metadata": {
  "kernelspec": {
   "display_name": "Python 3 (ipykernel)",
   "language": "python",
   "name": "python3"
  },
  "language_info": {
   "codemirror_mode": {
    "name": "ipython",
    "version": 3
   },
   "file_extension": ".py",
   "mimetype": "text/x-python",
   "name": "python",
   "nbconvert_exporter": "python",
   "pygments_lexer": "ipython3",
   "version": "3.10.13"
  }
 },
 "nbformat": 4,
 "nbformat_minor": 5
}
