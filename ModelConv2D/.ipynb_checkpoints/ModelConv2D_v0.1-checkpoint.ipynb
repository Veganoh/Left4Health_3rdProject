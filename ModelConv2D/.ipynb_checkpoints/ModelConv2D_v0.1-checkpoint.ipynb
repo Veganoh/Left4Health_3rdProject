{
 "cells": [
  {
   "cell_type": "markdown",
   "id": "1ce802ee",
   "metadata": {},
   "source": [
    "# Dataset: Dermnet\n",
    "\n",
    "## Contexto\n",
    "\n",
    "Este conjunto de dados consiste em uma coleção de imagens representando 23 tipos distintos de doenças de pele. As imagens foram obtidas a partir do site [Dermnet](https://dermnetnz.org/topics/otitis-externa). O conjunto de dados contém aproximadamente 19.500 imagens, divididas em conjuntos de treino e teste, com cerca de 15.500 imagens no conjunto de treino e o restante no conjunto de teste.\n",
    "\n",
    "## Conteúdo\n",
    "\n",
    "As imagens estão no formato JPEG e possuem 3 canais (RGB). As resoluções das imagens variam, não sendo todas de alta resolução. As categorias das doenças incluem acne, melanoma, eczema, queratoses seborreicas, tinea (dermatofitose), doenças bolhosas, hera venenosa, psoríase, tumores vasculares, entre outras.\n",
    "\n",
    "Este conjunto de dados oferece várias oportunidades de análise e aplicação, incluindo:\n",
    "\n",
    "- Desenvolvimento de classificadores de imagens robustos para categorização automática de imagens em uma das 23 doenças identificadas.\n",
    "- Análise exploratória das imagens para identificar diferenças visuais entre as categorias e fazer inferências sobre os padrões de cada doença.\n",
    "- Agrupamento de imagens de diferentes doenças em categorias mais amplas para análise comparativa.\n",
    "- Entre outras possibilidades de investigação e aplicação na área da dermatologia e reconhecimento de padrões.\n"
   ]
  },
  {
   "cell_type": "code",
   "execution_count": 1,
   "id": "f909655e",
   "metadata": {},
   "outputs": [],
   "source": [
    "import numpy as np\n",
    "import matplotlib.pyplot as plt \n",
    "import random\n",
    "import tensorflow as tf\n",
    "from tensorflow.keras.models import Sequential\n",
    "from tensorflow.keras.layers import Conv2D, MaxPooling2D, Dense, Flatten\n",
    "from PIL import Image\n",
    "import os\n",
    "import pandas as pd\n",
    "from glob import glob\n",
    "import shutil"
   ]
  },
  {
   "cell_type": "code",
   "execution_count": 2,
   "id": "dc059430",
   "metadata": {},
   "outputs": [],
   "source": [
    "from keras.preprocessing.image import ImageDataGenerator\n",
    "from keras.models import Sequential\n",
    "from keras.layers import Conv2D, MaxPool2D\n",
    "from keras.layers import Activation, Flatten, Dense, Dropout"
   ]
  },
  {
   "cell_type": "code",
   "execution_count": 5,
   "id": "a6138573",
   "metadata": {},
   "outputs": [],
   "source": [
    "SIZE = 250"
   ]
  },
  {
   "cell_type": "code",
   "execution_count": 7,
   "id": "895f0c66",
   "metadata": {},
   "outputs": [],
   "source": [
    "INPUT_SHAPE = (SIZE, SIZE, 3) "
   ]
  },
  {
   "cell_type": "code",
   "execution_count": 8,
   "id": "d65ce9a0",
   "metadata": {},
   "outputs": [
    {
     "name": "stdout",
     "output_type": "stream",
     "text": [
      "Model: \"sequential_2\"\n",
      "_________________________________________________________________\n",
      " Layer (type)                Output Shape              Param #   \n",
      "=================================================================\n",
      " conv2d (Conv2D)             (None, 248, 248, 256)     7168      \n",
      "                                                                 \n",
      " max_pooling2d (MaxPooling2D  (None, 124, 124, 256)    0         \n",
      " )                                                               \n",
      "                                                                 \n",
      " dropout (Dropout)           (None, 124, 124, 256)     0         \n",
      "                                                                 \n",
      " conv2d_1 (Conv2D)           (None, 122, 122, 128)     295040    \n",
      "                                                                 \n",
      " max_pooling2d_1 (MaxPooling  (None, 61, 61, 128)      0         \n",
      " 2D)                                                             \n",
      "                                                                 \n",
      " dropout_1 (Dropout)         (None, 61, 61, 128)       0         \n",
      "                                                                 \n",
      " conv2d_2 (Conv2D)           (None, 59, 59, 64)        73792     \n",
      "                                                                 \n",
      " max_pooling2d_2 (MaxPooling  (None, 29, 29, 64)       0         \n",
      " 2D)                                                             \n",
      "                                                                 \n",
      " dropout_2 (Dropout)         (None, 29, 29, 64)        0         \n",
      "                                                                 \n",
      " flatten (Flatten)           (None, 53824)             0         \n",
      "                                                                 \n",
      " dense (Dense)               (None, 32)                1722400   \n",
      "                                                                 \n",
      " dense_1 (Dense)             (None, 23)                759       \n",
      "                                                                 \n",
      "=================================================================\n",
      "Total params: 2,099,159\n",
      "Trainable params: 2,099,159\n",
      "Non-trainable params: 0\n",
      "_________________________________________________________________\n"
     ]
    }
   ],
   "source": [
    "import tensorflow as tf\n",
    "# GPU está disponível \n",
    "gpus = tf.config.experimental.list_physical_devices('GPU')\n",
    "if gpus:\n",
    "    try:\n",
    "        # Configuração para permitir o crescimento de memória do GPU\n",
    "        for gpu in gpus:\n",
    "            tf.config.experimental.set_memory_growth(gpu, True)\n",
    "    except RuntimeError as e:\n",
    "        print(e)\n",
    "\n",
    "with tf.device('/GPU:0'):\n",
    "    model = Sequential()\n",
    "    model.add(Conv2D(256, (3, 3), activation=\"relu\", input_shape=(SIZE, SIZE, 3)))\n",
    "    #model.add(BatchNormalization())\n",
    "    model.add(MaxPool2D(pool_size=(2, 2)))  \n",
    "    model.add(Dropout(0.3))\n",
    "\n",
    "    model.add(Conv2D(128, (3, 3),activation='relu'))\n",
    "    #model.add(BatchNormalization())\n",
    "    model.add(MaxPool2D(pool_size=(2, 2)))  \n",
    "    model.add(Dropout(0.3))\n",
    "\n",
    "    model.add(Conv2D(64, (3, 3),activation='relu'))\n",
    "    #model.add(BatchNormalization())\n",
    "    model.add(MaxPool2D(pool_size=(2, 2)))  \n",
    "    model.add(Dropout(0.3))\n",
    "    model.add(Flatten())\n",
    "\n",
    "    model.add(Dense(32))\n",
    "    model.add(Dense(23, activation='softmax'))\n",
    "    model.summary()\n",
    "\n",
    "    model.compile(loss='categorical_crossentropy', optimizer='Adam', metrics=['acc'])\n"
   ]
  },
  {
   "cell_type": "code",
   "execution_count": 9,
   "id": "96782ce0",
   "metadata": {},
   "outputs": [],
   "source": [
    "train_datagen = ImageDataGenerator(\n",
    "        rescale = 1./255,\n",
    "        rotation_range = 30,\n",
    "        width_shift_range=0.2,\n",
    "        height_shift_range=0.2,\n",
    "#         shear_range = 0.2,\n",
    "#         zoom_range = 0.2,\n",
    "#         horizontal_flip = True,\n",
    "        fill_mode='reflect')"
   ]
  },
  {
   "cell_type": "code",
   "execution_count": 10,
   "id": "aa74227d",
   "metadata": {},
   "outputs": [],
   "source": [
    "test_datagen = ImageDataGenerator(rescale=1./255)"
   ]
  },
  {
   "cell_type": "code",
   "execution_count": 11,
   "id": "5e12df25",
   "metadata": {},
   "outputs": [],
   "source": [
    "# train_dir = '/kaggle/input/skin-disease-dataset/Dataset'\n",
    "train_dir = '/Users/hugopereira/DatasetMEIA/train'\n",
    "test_dir = '/Users/hugopereira/DatasetMEIA/test'"
   ]
  },
  {
   "cell_type": "code",
   "execution_count": 12,
   "id": "15f293b3",
   "metadata": {},
   "outputs": [],
   "source": [
    "batch_size = 16"
   ]
  },
  {
   "cell_type": "code",
   "execution_count": 13,
   "id": "bc8bcda2",
   "metadata": {},
   "outputs": [
    {
     "name": "stdout",
     "output_type": "stream",
     "text": [
      "Found 15557 images belonging to 23 classes.\n"
     ]
    }
   ],
   "source": [
    "train_generator = train_datagen.flow_from_directory(\n",
    "                                            directory = train_dir,\n",
    "                                            class_mode = 'categorical',\n",
    "                                            batch_size = batch_size,\n",
    "                                            target_size = (SIZE, SIZE))"
   ]
  },
  {
   "cell_type": "code",
   "execution_count": 14,
   "id": "ed5f798f",
   "metadata": {},
   "outputs": [
    {
     "name": "stdout",
     "output_type": "stream",
     "text": [
      "Found 4002 images belonging to 23 classes.\n"
     ]
    }
   ],
   "source": [
    "test_generator = test_datagen.flow_from_directory(\n",
    "                                    directory = test_dir,\n",
    "                                    class_mode = 'categorical',\n",
    "                                    batch_size = batch_size,\n",
    "                                    target_size = (SIZE, SIZE))"
   ]
  },
  {
   "cell_type": "code",
   "execution_count": 16,
   "id": "ba63aa3d",
   "metadata": {},
   "outputs": [
    {
     "name": "stdout",
     "output_type": "stream",
     "text": [
      "Epoch 1/5\n"
     ]
    },
    {
     "name": "stderr",
     "output_type": "stream",
     "text": [
      "2024-03-01 11:43:54.857599: I tensorflow/core/common_runtime/executor.cc:1197] [/device:CPU:0] (DEBUG INFO) Executor start aborting (this does not indicate an error and you can ignore this message): INVALID_ARGUMENT: You must feed a value for placeholder tensor 'Placeholder/_0' with dtype int32\n",
      "\t [[{{node Placeholder/_0}}]]\n"
     ]
    },
    {
     "name": "stdout",
     "output_type": "stream",
     "text": [
      "125/125 [==============================] - 266s 2s/step - loss: 2.9539 - acc: 0.1156\n",
      "Epoch 2/5\n",
      "125/125 [==============================] - 265s 2s/step - loss: 2.9269 - acc: 0.1135\n",
      "Epoch 3/5\n",
      "125/125 [==============================] - 258s 2s/step - loss: 2.9186 - acc: 0.1270\n",
      "Epoch 4/5\n",
      "125/125 [==============================] - 256s 2s/step - loss: 2.9652 - acc: 0.1100\n",
      "Epoch 5/5\n",
      "125/125 [==============================] - 253s 2s/step - loss: 2.9154 - acc: 0.1262\n"
     ]
    },
    {
     "data": {
      "text/plain": [
       "<keras.callbacks.History at 0x2a8e86110>"
      ]
     },
     "execution_count": 16,
     "metadata": {},
     "output_type": "execute_result"
    }
   ],
   "source": [
    "model.fit(\n",
    "    train_generator,\n",
    "    steps_per_epoch=2000 // batch_size,\n",
    "    epochs=5,\n",
    "    #validation_data=test_generator,\n",
    "    #validation_steps=800 // batch_size\n",
    ")\n"
   ]
  },
  {
   "cell_type": "code",
   "execution_count": 19,
   "id": "60b336bf",
   "metadata": {},
   "outputs": [
    {
     "name": "stderr",
     "output_type": "stream",
     "text": [
      "2024-03-01 12:06:33.542060: I tensorflow/core/common_runtime/executor.cc:1197] [/device:CPU:0] (DEBUG INFO) Executor start aborting (this does not indicate an error and you can ignore this message): INVALID_ARGUMENT: You must feed a value for placeholder tensor 'Placeholder/_0' with dtype int32\n",
      "\t [[{{node Placeholder/_0}}]]\n"
     ]
    },
    {
     "name": "stdout",
     "output_type": "stream",
     "text": [
      "251/251 [==============================] - 149s 595ms/step - loss: 2.9194 - acc: 0.1287\n"
     ]
    },
    {
     "data": {
      "text/plain": [
       "[2.919402599334717, 0.12868565320968628]"
      ]
     },
     "execution_count": 19,
     "metadata": {},
     "output_type": "execute_result"
    }
   ],
   "source": [
    "model.evaluate(test_generator)"
   ]
  },
  {
   "cell_type": "code",
   "execution_count": 20,
   "id": "773afe50",
   "metadata": {},
   "outputs": [
    {
     "name": "stdout",
     "output_type": "stream",
     "text": [
      "Num GPUs Available:  0\n"
     ]
    }
   ],
   "source": [
    "import tensorflow as tf\n",
    "print(\"Num GPUs Available: \", len(tf.config.experimental.list_physical_devices('GPU')))"
   ]
  }
 ],
 "metadata": {
  "kernelspec": {
   "display_name": "Python 3 (ipykernel)",
   "language": "python",
   "name": "python3"
  },
  "language_info": {
   "codemirror_mode": {
    "name": "ipython",
    "version": 3
   },
   "file_extension": ".py",
   "mimetype": "text/x-python",
   "name": "python",
   "nbconvert_exporter": "python",
   "pygments_lexer": "ipython3",
   "version": "3.10.13"
  }
 },
 "nbformat": 4,
 "nbformat_minor": 5
}
