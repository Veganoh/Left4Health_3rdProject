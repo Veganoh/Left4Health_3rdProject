{
 "cells": [
  {
   "cell_type": "markdown",
   "id": "1ce802ee",
   "metadata": {},
   "source": [
    "# Dataset: Dermnet\n",
    "\n",
    "## Contexto\n",
    "\n",
    "Este conjunto de dados consiste em uma coleção de imagens representando 23 tipos distintos de doenças de pele. As imagens foram obtidas a partir do site [Dermnet](https://dermnetnz.org/topics/otitis-externa). O conjunto de dados contém aproximadamente 19.500 imagens, divididas em conjuntos de treino e teste, com cerca de 15.500 imagens no conjunto de treino e o restante no conjunto de teste.\n",
    "\n",
    "## Conteúdo\n",
    "\n",
    "As imagens estão no formato JPEG e possuem 3 canais (RGB). As resoluções das imagens variam, não sendo todas de alta resolução. As categorias das doenças incluem acne, melanoma, eczema, queratoses seborreicas, tinea (dermatofitose), doenças bolhosas, hera venenosa, psoríase, tumores vasculares, entre outras.\n",
    "\n",
    "Este conjunto de dados oferece várias oportunidades de análise e aplicação, incluindo:\n",
    "\n",
    "- Desenvolvimento de classificadores de imagens robustos para categorização automática de imagens em uma das 23 doenças identificadas.\n",
    "- Análise exploratória das imagens para identificar diferenças visuais entre as categorias e fazer inferências sobre os padrões de cada doença.\n",
    "- Agrupamento de imagens de diferentes doenças em categorias mais amplas para análise comparativa.\n",
    "- Entre outras possibilidades de investigação e aplicação na área da dermatologia e reconhecimento de padrões.\n"
   ]
  },
  {
   "cell_type": "code",
   "execution_count": 25,
   "id": "f909655e",
   "metadata": {},
   "outputs": [],
   "source": [
    "import numpy as np\n",
    "import matplotlib.pyplot as plt \n",
    "import random\n",
    "import tensorflow as tf\n",
    "import os\n",
    "import pandas as pd\n",
    "from glob import glob\n",
    "import shutil\n",
    "import cv2\n",
    "import random\n",
    "import seaborn as sns\n",
    "\n",
    "from keras.preprocessing.image import ImageDataGenerator\n",
    "from keras.models import Sequential\n",
    "from keras.layers import Conv2D, MaxPool2D\n",
    "from keras.layers import Activation, Flatten, Dense, Dropout\n",
    "from tensorflow.keras.models import Sequential\n",
    "from tensorflow.keras.layers import Conv2D, MaxPooling2D, Dense, Flatten\n",
    "from PIL import Image\n",
    "from tensorflow.keras.applications import ResNet50\n",
    "from tensorflow.keras.applications.resnet50 import preprocess_input\n",
    "from tensorflow.keras.models import Model\n",
    "from tensorflow.keras.layers import GlobalAveragePooling2D, Dense\n",
    "from sklearn.metrics import precision_score, recall_score, roc_auc_score, accuracy_score, confusion_matrix, classification_report"
   ]
  },
  {
   "cell_type": "code",
   "execution_count": 3,
   "id": "9522f4f7-0317-49c2-a035-c7d8da0c807c",
   "metadata": {},
   "outputs": [],
   "source": [
    "def confussion_matrix(y_true_labels,y_pred_labels,test_generator):\n",
    "    # Calcular a matriz de confusão\n",
    "    cm = confusion_matrix(y_true_labels, y_pred_labels)\n",
    "\n",
    "    # Exibir a matriz de confusão\n",
    "    plt.figure(figsize=(8, 6))\n",
    "    sns.heatmap(cm, annot=True, fmt=\"d\", cmap=\"Blues\", xticklabels=test_generator.class_indices.keys(), yticklabels=test_generator.class_indices.keys())\n",
    "    plt.xlabel('Predicted labels')\n",
    "    plt.ylabel('True labels')\n",
    "    plt.title('Confusion Matrix')\n",
    "    plt.show()\n",
    "\n",
    "    # Calcular os verdadeiros positivos (TP), verdadeiros negativos (TN),\n",
    "    # falsos positivos (FP) e falsos negativos (FN)\n",
    "    TP = cm[1, 1]\n",
    "    TN = cm[0, 0]\n",
    "    FP = cm[0, 1]\n",
    "    FN = cm[1, 0]\n",
    "\n",
    "    # Exibir o relatório de classificação\n",
    "    print(\"\\nRelatório de Classificação:\")\n",
    "    print(classification_report(y_true_labels, y_pred_labels, target_names=test_generator.class_indices.keys()))\n",
    "\n",
    "    # Exibir a tabela com os valores de TP, TN, FP, FN\n",
    "    print(\"\\nValores de TP, TN, FP, FN:\")\n",
    "    print(\"Verdadeiros Positivos:\", TP)\n",
    "    print(\"Verdadeiros Negativos:\", TN)\n",
    "    print(\"Falsos Positivos:\", FP)\n",
    "    print(\"Falsos Negativos:\", FN)"
   ]
  },
  {
   "cell_type": "code",
   "execution_count": 4,
   "id": "d340b18b-201a-4176-a502-9b7736770662",
   "metadata": {},
   "outputs": [],
   "source": [
    "# Função para guardar os modelos\n",
    "def save_model(model, model_name, history, test_generator): \n",
    "    # Criar uma pasta para guardar os modelos se esta não existir\n",
    "    if not os.path.exists('Modelos_Salvos'):\n",
    "        os.mkdir('Modelos_Salvos')\n",
    "    \n",
    "    # Criar uma pasta para guardar o modelo se esta não existir\n",
    "    if not os.path.exists('Modelos_Salvos/' + model_name):\n",
    "        os.mkdir('Modelos_Salvos/' + model_name)\n",
    "    \n",
    "    # Guardar o modelo\n",
    "    model.save('Modelos_Salvos/' + model_name + '/' + model_name + '.keras')\n",
    "    model.save('Modelos_Salvos/' + model_name + '/' + model_name + '.h5')\n",
    "\n",
    "    # Guardar a avaliação do modelo usando o gerador de teste\n",
    "    #evaluate_model(model, history, test_generator, test_folder)\n",
    "    plt.savefig('Modelos_Salvos/' + model_name + '/' + model_name + '_avaliacao.png')\n",
    "\n",
    "    # Guardar a arquitetura do modelo\n",
    "    tf.keras.utils.plot_model(\n",
    "        model,\n",
    "        to_file='Modelos_Salvos/' + model_name + '/' + model_name + '.png',\n",
    "        show_shapes=True,\n",
    "        show_layer_names=True,\n",
    "    )\n",
    "\n",
    "    # Guardar o histórico do modelo num ficheiro CSV\n",
    "    hist_df = pd.DataFrame(history.history)\n",
    "    hist_csv_file = 'Modelos_Salvos/' + model_name + '/' + model_name + '_historico.csv'\n",
    "    with open(hist_csv_file, mode='w') as f:\n",
    "        hist_df.to_csv(f)"
   ]
  },
  {
   "cell_type": "code",
   "execution_count": 20,
   "id": "9a32f7b9-fe77-4b5f-b779-ac9e9f0e155f",
   "metadata": {},
   "outputs": [],
   "source": [
    "# Função para carregar o modelo e seu histórico\n",
    "def load_model_and_history(model_name):\n",
    "    # Verifica se o modelo existe\n",
    "    model_path = 'Modelos_Salvos/' + model_name + '/' + model_name + '.h5'\n",
    "    if not os.path.exists(model_path):\n",
    "        print(\"O modelo especificado não existe.\")\n",
    "        return None, None\n",
    "    \n",
    "    # Carrega o modelo\n",
    "    model = tf.keras.models.load_model(model_path)\n",
    "    \n",
    "    # Carrega o histórico\n",
    "    history_path = 'Modelos_Salvos/' + model_name + '/' + model_name + '_historico.csv'\n",
    "    if os.path.exists(history_path):\n",
    "        history = pd.read_csv(history_path)\n",
    "    else:\n",
    "        print(\"O histórico do modelo não existe.\")\n",
    "        history = None\n",
    "    \n",
    "    return model, history"
   ]
  },
  {
   "cell_type": "code",
   "execution_count": 5,
   "id": "a6138573",
   "metadata": {},
   "outputs": [],
   "source": [
    "SIZE = 250"
   ]
  },
  {
   "cell_type": "code",
   "execution_count": 6,
   "id": "895f0c66",
   "metadata": {},
   "outputs": [],
   "source": [
    "INPUT_SHAPE = (SIZE, SIZE, 3) "
   ]
  },
  {
   "cell_type": "code",
   "execution_count": 7,
   "id": "d65ce9a0",
   "metadata": {},
   "outputs": [
    {
     "name": "stdout",
     "output_type": "stream",
     "text": [
      "Model: \"sequential\"\n",
      "_________________________________________________________________\n",
      " Layer (type)                Output Shape              Param #   \n",
      "=================================================================\n",
      " conv2d (Conv2D)             (None, 248, 248, 256)     7168      \n",
      "                                                                 \n",
      " max_pooling2d (MaxPooling2D  (None, 124, 124, 256)    0         \n",
      " )                                                               \n",
      "                                                                 \n",
      " dropout (Dropout)           (None, 124, 124, 256)     0         \n",
      "                                                                 \n",
      " conv2d_1 (Conv2D)           (None, 122, 122, 128)     295040    \n",
      "                                                                 \n",
      " max_pooling2d_1 (MaxPooling  (None, 61, 61, 128)      0         \n",
      " 2D)                                                             \n",
      "                                                                 \n",
      " dropout_1 (Dropout)         (None, 61, 61, 128)       0         \n",
      "                                                                 \n",
      " conv2d_2 (Conv2D)           (None, 59, 59, 64)        73792     \n",
      "                                                                 \n",
      " max_pooling2d_2 (MaxPooling  (None, 29, 29, 64)       0         \n",
      " 2D)                                                             \n",
      "                                                                 \n",
      " dropout_2 (Dropout)         (None, 29, 29, 64)        0         \n",
      "                                                                 \n",
      " flatten (Flatten)           (None, 53824)             0         \n",
      "                                                                 \n",
      " dense (Dense)               (None, 32)                1722400   \n",
      "                                                                 \n",
      " dense_1 (Dense)             (None, 5)                 165       \n",
      "                                                                 \n",
      "=================================================================\n",
      "Total params: 2,098,565\n",
      "Trainable params: 2,098,565\n",
      "Non-trainable params: 0\n",
      "_________________________________________________________________\n"
     ]
    }
   ],
   "source": [
    "import tensorflow as tf\n",
    "import os\n",
    "os.environ[\"CUDA_VISIBLE_DEVICES\"] = \"\"\n",
    "\n",
    "model = Sequential()\n",
    "model.add(Conv2D(256, (3, 3), activation=\"relu\", input_shape=(SIZE, SIZE, 3)))\n",
    "#model.add(BatchNormalization())\n",
    "model.add(MaxPool2D(pool_size=(2, 2)))  \n",
    "model.add(Dropout(0.3))\n",
    "\n",
    "model.add(Conv2D(128, (3, 3),activation='relu'))\n",
    "#model.add(BatchNormalization())\n",
    "model.add(MaxPool2D(pool_size=(2, 2)))  \n",
    "model.add(Dropout(0.3))\n",
    "\n",
    "model.add(Conv2D(64, (3, 3),activation='relu'))\n",
    "#model.add(BatchNormalization())\n",
    "model.add(MaxPool2D(pool_size=(2, 2)))  \n",
    "model.add(Dropout(0.3))\n",
    "model.add(Flatten())\n",
    "\n",
    "model.add(Dense(32))\n",
    "model.add(Dense(5, activation='softmax'))\n",
    "model.summary()\n",
    "\n",
    "model.compile(loss='categorical_crossentropy', optimizer='Adam', metrics=['acc'])\n"
   ]
  },
  {
   "cell_type": "code",
   "execution_count": 9,
   "id": "96782ce0",
   "metadata": {},
   "outputs": [],
   "source": [
    "train_datagen = ImageDataGenerator(\n",
    "        rescale = 1./255,\n",
    "        rotation_range = 30,\n",
    "        width_shift_range=0.2,\n",
    "        height_shift_range=0.2,\n",
    "        shear_range = 0.2,\n",
    "        zoom_range = 0.2,\n",
    "        horizontal_flip = True,\n",
    "        fill_mode='reflect')"
   ]
  },
  {
   "cell_type": "code",
   "execution_count": 10,
   "id": "aa74227d",
   "metadata": {},
   "outputs": [],
   "source": [
    "test_datagen = ImageDataGenerator(rescale=1./255)"
   ]
  },
  {
   "cell_type": "code",
   "execution_count": 11,
   "id": "5e12df25",
   "metadata": {},
   "outputs": [],
   "source": [
    "# train_dir = '/kaggle/input/skin-disease-dataset/Dataset'\n",
    "\n",
    "train_dir= 'C:/Dev/DataProcessedUnder/train'\n",
    "test_dir = 'C:/Dev/DataProcessedUnder/test'"
   ]
  },
  {
   "cell_type": "code",
   "execution_count": 12,
   "id": "15f293b3",
   "metadata": {},
   "outputs": [],
   "source": [
    "batch_size = 64"
   ]
  },
  {
   "cell_type": "code",
   "execution_count": 13,
   "id": "bc8bcda2",
   "metadata": {},
   "outputs": [
    {
     "name": "stdout",
     "output_type": "stream",
     "text": [
      "Found 2251 images belonging to 5 classes.\n"
     ]
    }
   ],
   "source": [
    "train_generator = train_datagen.flow_from_directory(\n",
    "                                            directory = train_dir,\n",
    "                                            class_mode = 'categorical',\n",
    "                                            batch_size = batch_size,\n",
    "                                            target_size = (SIZE, SIZE))"
   ]
  },
  {
   "cell_type": "code",
   "execution_count": 14,
   "id": "ed5f798f",
   "metadata": {},
   "outputs": [
    {
     "name": "stdout",
     "output_type": "stream",
     "text": [
      "Found 746 images belonging to 5 classes.\n"
     ]
    }
   ],
   "source": [
    "test_generator = test_datagen.flow_from_directory(\n",
    "                                    directory = test_dir,\n",
    "                                    class_mode = 'categorical',\n",
    "                                    batch_size = batch_size,\n",
    "                                    target_size = (SIZE, SIZE))"
   ]
  },
  {
   "cell_type": "code",
   "execution_count": 15,
   "id": "ba63aa3d",
   "metadata": {},
   "outputs": [
    {
     "name": "stdout",
     "output_type": "stream",
     "text": [
      "Epoch 1/25\n",
      "31/31 [==============================] - 1477s 47s/step - loss: 2.3476 - acc: 0.2346\n",
      "Epoch 2/25\n",
      "31/31 [==============================] - 1153s 37s/step - loss: 1.6095 - acc: 0.1999\n",
      "Epoch 3/25\n",
      "31/31 [==============================] - 1095s 35s/step - loss: 1.5960 - acc: 0.2154\n",
      "Epoch 4/25\n",
      "31/31 [==============================] - 1153s 37s/step - loss: 1.5705 - acc: 0.2745\n",
      "Epoch 5/25\n",
      "31/31 [==============================] - 1132s 36s/step - loss: 1.5647 - acc: 0.2895\n",
      "Epoch 6/25\n",
      "31/31 [==============================] - 1172s 38s/step - loss: 1.5566 - acc: 0.3200\n",
      "Epoch 7/25\n",
      "31/31 [==============================] - 1255s 41s/step - loss: 1.5325 - acc: 0.3347\n",
      "Epoch 8/25\n",
      "31/31 [==============================] - 1155s 37s/step - loss: 1.5035 - acc: 0.3490\n",
      "Epoch 9/25\n",
      "31/31 [==============================] - 1115s 36s/step - loss: 1.5143 - acc: 0.3537\n",
      "Epoch 10/25\n",
      "31/31 [==============================] - 1169s 38s/step - loss: 1.4864 - acc: 0.3342\n",
      "Epoch 11/25\n",
      "31/31 [==============================] - 1149s 37s/step - loss: 1.4355 - acc: 0.3604\n",
      "Epoch 12/25\n",
      "31/31 [==============================] - 1166s 38s/step - loss: 1.4212 - acc: 0.3785\n",
      "Epoch 13/25\n",
      "31/31 [==============================] - 1144s 38s/step - loss: 1.4313 - acc: 0.3848\n",
      "Epoch 14/25\n",
      "31/31 [==============================] - 1202s 39s/step - loss: 1.4163 - acc: 0.3858\n",
      "Epoch 15/25\n",
      "31/31 [==============================] - 1209s 39s/step - loss: 1.3922 - acc: 0.4019\n",
      "Epoch 16/25\n",
      "31/31 [==============================] - 1176s 38s/step - loss: 1.3876 - acc: 0.4070\n",
      "Epoch 17/25\n",
      "31/31 [==============================] - 1190s 38s/step - loss: 1.3947 - acc: 0.4019\n",
      "Epoch 18/25\n",
      "31/31 [==============================] - 1168s 38s/step - loss: 1.3725 - acc: 0.4138\n",
      "Epoch 19/25\n",
      "31/31 [==============================] - 1229s 40s/step - loss: 1.3649 - acc: 0.4236\n",
      "Epoch 20/25\n",
      "31/31 [==============================] - 1231s 40s/step - loss: 1.3544 - acc: 0.4355\n",
      "Epoch 21/25\n",
      "31/31 [==============================] - 1246s 40s/step - loss: 1.3624 - acc: 0.4303\n",
      "Epoch 22/25\n",
      "31/31 [==============================] - 1234s 40s/step - loss: 1.3464 - acc: 0.4340\n",
      "Epoch 23/25\n",
      "31/31 [==============================] - 1231s 40s/step - loss: 1.3594 - acc: 0.4298\n",
      "Epoch 24/25\n",
      "31/31 [==============================] - 1186s 38s/step - loss: 1.3507 - acc: 0.4350\n",
      "Epoch 25/25\n",
      "31/31 [==============================] - 1211s 39s/step - loss: 1.3174 - acc: 0.4511\n"
     ]
    }
   ],
   "source": [
    "history=model.fit(\n",
    "        train_generator,\n",
    "        steps_per_epoch=2000 // batch_size,  \n",
    "        epochs=25,\n",
    "        #validation_data=test_generator,\n",
    "        #validation_steps=800 // batch_size\n",
    ")"
   ]
  },
  {
   "cell_type": "code",
   "execution_count": 16,
   "id": "60b336bf",
   "metadata": {},
   "outputs": [
    {
     "name": "stdout",
     "output_type": "stream",
     "text": [
      "12/12 [==============================] - 46s 3s/step - loss: 1.3214 - acc: 0.4464\n"
     ]
    },
    {
     "data": {
      "text/plain": [
       "[1.3213673830032349, 0.44638070464134216]"
      ]
     },
     "execution_count": 16,
     "metadata": {},
     "output_type": "execute_result"
    }
   ],
   "source": [
    "model.evaluate(test_generator)"
   ]
  },
  {
   "cell_type": "code",
   "execution_count": 17,
   "id": "4717f11c-4d01-4286-828f-fe07fbc0d017",
   "metadata": {},
   "outputs": [
    {
     "name": "stdout",
     "output_type": "stream",
     "text": [
      "You must install pydot (`pip install pydot`) and install graphviz (see instructions at https://graphviz.gitlab.io/download/) for plot_model to work.\n"
     ]
    },
    {
     "data": {
      "text/plain": [
       "<Figure size 640x480 with 0 Axes>"
      ]
     },
     "metadata": {},
     "output_type": "display_data"
    }
   ],
   "source": [
    "# Guardar o modelo99\n",
    "save_model(model, 'CNN2D', history, test_generator)"
   ]
  },
  {
   "cell_type": "code",
   "execution_count": 26,
   "id": "ef5822af-5152-48f3-9f93-ec4d8e4afbc7",
   "metadata": {},
   "outputs": [
    {
     "name": "stdout",
     "output_type": "stream",
     "text": [
      "Modelo carregado com sucesso!\n",
      "Arquitetura do modelo:\n",
      "Model: \"sequential\"\n",
      "_________________________________________________________________\n",
      " Layer (type)                Output Shape              Param #   \n",
      "=================================================================\n",
      " conv2d (Conv2D)             (None, 248, 248, 256)     7168      \n",
      "                                                                 \n",
      " max_pooling2d (MaxPooling2D  (None, 124, 124, 256)    0         \n",
      " )                                                               \n",
      "                                                                 \n",
      " dropout (Dropout)           (None, 124, 124, 256)     0         \n",
      "                                                                 \n",
      " conv2d_1 (Conv2D)           (None, 122, 122, 128)     295040    \n",
      "                                                                 \n",
      " max_pooling2d_1 (MaxPooling  (None, 61, 61, 128)      0         \n",
      " 2D)                                                             \n",
      "                                                                 \n",
      " dropout_1 (Dropout)         (None, 61, 61, 128)       0         \n",
      "                                                                 \n",
      " conv2d_2 (Conv2D)           (None, 59, 59, 64)        73792     \n",
      "                                                                 \n",
      " max_pooling2d_2 (MaxPooling  (None, 29, 29, 64)       0         \n",
      " 2D)                                                             \n",
      "                                                                 \n",
      " dropout_2 (Dropout)         (None, 29, 29, 64)        0         \n",
      "                                                                 \n",
      " flatten (Flatten)           (None, 53824)             0         \n",
      "                                                                 \n",
      " dense (Dense)               (None, 32)                1722400   \n",
      "                                                                 \n",
      " dense_1 (Dense)             (None, 5)                 165       \n",
      "                                                                 \n",
      "=================================================================\n",
      "Total params: 2,098,565\n",
      "Trainable params: 2,098,565\n",
      "Non-trainable params: 0\n",
      "_________________________________________________________________\n",
      "Histórico do modelo:\n",
      "   Unnamed: 0      loss       acc\n",
      "0           0  2.347615  0.234593\n",
      "1           1  1.609504  0.199896\n",
      "2           2  1.595976  0.215432\n",
      "3           3  1.570535  0.274469\n",
      "4           4  1.564682  0.289487\n",
      "\n",
      "A fazer previsões no modelo...\n",
      "12/12 [==============================] - 40s 3s/step\n"
     ]
    },
    {
     "data": {
      "image/png": "[encoded data removed]",
      "text/plain": [
       "<Figure size 800x600 with 2 Axes>"
      ]
     },
     "metadata": {},
     "output_type": "display_data"
    },
    {
     "name": "stdout",
     "output_type": "stream",
     "text": [
      "\n",
      "Relatório de Classificação:\n",
      "                                                       precision    recall  f1-score   support\n",
      "\n",
      "                             Atopic Dermatitis Photos       0.13      0.12      0.13       123\n",
      "           Lupus and other Connective Tissue diseases       0.14      0.10      0.12       105\n",
      "                  Melanoma Skin Cancer Nevi and Moles       0.19      0.37      0.25       115\n",
      "Psoriasis pictures Lichen Planus and related diseases       0.53      0.35      0.42       350\n",
      "                                      Urticaria Hives       0.06      0.13      0.09        53\n",
      "\n",
      "                                             accuracy                           0.26       746\n",
      "                                            macro avg       0.21      0.21      0.20       746\n",
      "                                         weighted avg       0.33      0.26      0.28       746\n",
      "\n",
      "\n",
      "Valores de TP, TN, FP, FN:\n",
      "Verdadeiros Positivos: 11\n",
      "Verdadeiros Negativos: 15\n",
      "Falsos Positivos: 15\n",
      "Falsos Negativos: 19\n"
     ]
    }
   ],
   "source": [
    "loaded_model_CNN_random, loaded_history_CNN_random = load_model_and_history('CNN2D')\n",
    "if loaded_model_CNN_random is not None:\n",
    "    print(\"Modelo carregado com sucesso!\")\n",
    "    print(\"Arquitetura do modelo:\")\n",
    "    loaded_model_CNN_random.summary()\n",
    "    if loaded_history_CNN_random is not None:\n",
    "        print(\"Histórico do modelo:\")\n",
    "        print(loaded_history_CNN_random.head())  # Visualizar as primeiras linhas do histórico\n",
    "\n",
    "print(\"\\nA fazer previsões no modelo...\")\n",
    "# Fazer previsões no conjunto de teste usando o modelo carregado\n",
    "loaded_model_predictions = loaded_model_CNN_random.predict(test_generator)\n",
    "\n",
    "# Converter as previsões em rótulos\n",
    "y_pred_labels = np.argmax(loaded_model_predictions, axis=1)\n",
    "y_true_labels = test_generator.classes\n",
    "\n",
    "# Agora você pode chamar a função de matriz de confusão\n",
    "confussion_matrix(y_true_labels, y_pred_labels, test_generator)"
   ]
  },
  {
   "cell_type": "code",
   "execution_count": null,
   "id": "6223a2e1-688a-48e8-b480-b40b72b73d19",
   "metadata": {},
   "outputs": [],
   "source": []
  }
 ],
 "metadata": {
  "kernelspec": {
   "display_name": "Python 3 (ipykernel)",
   "language": "python",
   "name": "python3"
  },
  "language_info": {
   "codemirror_mode": {
    "name": "ipython",
    "version": 3
   },
   "file_extension": ".py",
   "mimetype": "text/x-python",
   "name": "python",
   "nbconvert_exporter": "python",
   "pygments_lexer": "ipython3",
   "version": "3.10.8"
  }
 },
 "nbformat": 4,
 "nbformat_minor": 5
}
